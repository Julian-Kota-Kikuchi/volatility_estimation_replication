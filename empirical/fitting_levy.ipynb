{
 "cells": [
  {
   "cell_type": "markdown",
   "id": "3a0f3f4c-7844-48dd-9d69-a4f946172776",
   "metadata": {},
   "source": [
    "## Load Libraries"
   ]
  },
  {
   "cell_type": "code",
   "execution_count": 1,
   "id": "b88d4b1a-1a48-496c-9841-e83b305e3ffa",
   "metadata": {},
   "outputs": [],
   "source": [
    "import numpy as np\n",
    "import pandas as pd\n",
    "\n",
    "import matplotlib.pyplot as plt\n",
    "import seaborn as sns\n",
    "\n",
    "# distributions\n",
    "import scipy.integrate as integrate\n",
    "from scipy.integrate import quad, quad_vec\n",
    "from scipy.stats import invgamma\n",
    "from scipy.stats import levy\n",
    "from scipy.special import gamma, erfinv\n",
    "\n",
    "import time\n",
    "from datetime import datetime, timedelta\n",
    "\n",
    "import sys\n",
    "import importlib # ref: https://askubuntu.com/questions/144698/find-a-file-by-name-using-command-line\n",
    "import seaborn as sns\n",
    "\n",
    "import os"
   ]
  },
  {
   "cell_type": "code",
   "execution_count": 2,
   "id": "0eca3397-7a5e-476e-b1ef-593a8bb3158d",
   "metadata": {},
   "outputs": [],
   "source": [
    "sys.path.append('../tools')\n",
    "import tools"
   ]
  },
  {
   "cell_type": "code",
   "execution_count": 3,
   "id": "93fbfeaf-e571-4b0d-ab3e-11953c3af734",
   "metadata": {},
   "outputs": [
    {
     "data": {
      "text/plain": [
       "<module 'tools' from '../tools/tools.py'>"
      ]
     },
     "execution_count": 3,
     "metadata": {},
     "output_type": "execute_result"
    }
   ],
   "source": [
    "importlib.reload(tools)"
   ]
  },
  {
   "cell_type": "code",
   "execution_count": 4,
   "id": "a0bbe290-c085-43dd-838b-0748c41f0354",
   "metadata": {},
   "outputs": [],
   "source": [
    "# set pandas option\n",
    "pd.set_option('display.max_rows', 100)"
   ]
  },
  {
   "cell_type": "markdown",
   "id": "8e59f8b9-d27b-4916-8466-e7ff0d0568f8",
   "metadata": {},
   "source": [
    "## Download Data"
   ]
  },
  {
   "cell_type": "code",
   "execution_count": 5,
   "id": "a5f5237a-c261-4f73-93a9-a2a530258de0",
   "metadata": {},
   "outputs": [],
   "source": [
    "# download and store data in a file\n",
    "df = pd.read_csv('data/apple_cleaned.csv')"
   ]
  },
  {
   "cell_type": "code",
   "execution_count": 6,
   "id": "202a59fb-0fde-4e2c-9c93-b4af631edb50",
   "metadata": {},
   "outputs": [],
   "source": [
    "# decide whether you use sample or not\n",
    "sample = True\n",
    "\n",
    "if sample:\n",
    "    data = df[df['date']< '2017-01-30']\n",
    "    \n",
    "else:\n",
    "    data = df.copy()"
   ]
  },
  {
   "cell_type": "markdown",
   "id": "03c0928f-a99f-44db-8185-9d38b9bae43c",
   "metadata": {},
   "source": [
    "## Conducting Analysis"
   ]
  },
  {
   "cell_type": "markdown",
   "id": "0f81f425-93d4-4a32-9a54-e0f310d73b1d",
   "metadata": {},
   "source": [
    "## Fitting Distribution"
   ]
  },
  {
   "cell_type": "markdown",
   "id": "6ba816c8-dd85-4414-934a-9cc92ec26d63",
   "metadata": {},
   "source": [
    "### Fitting Levy Distribution"
   ]
  },
  {
   "cell_type": "markdown",
   "id": "bf7692c2-95a9-4dce-a4de-f87e5469d4e5",
   "metadata": {},
   "source": [
    "#### Not fixing location parameter "
   ]
  },
  {
   "cell_type": "code",
   "execution_count": 7,
   "id": "dc8381c7-6e63-4372-bcc2-3075a52290eb",
   "metadata": {},
   "outputs": [
    {
     "name": "stderr",
     "output_type": "stream",
     "text": [
      "/Users/kotakikuchi/opt/anaconda3/lib/python3.8/site-packages/scipy/stats/_distn_infrastructure.py:2494: RuntimeWarning: invalid value encountered in double_scalars\n",
      "  Lhat = muhat - Shat*mu\n",
      "/Users/kotakikuchi/opt/anaconda3/lib/python3.8/site-packages/scipy/stats/_distn_infrastructure.py:1797: RuntimeWarning: divide by zero encountered in log\n",
      "  return log(self._pdf(x, *args))\n"
     ]
    }
   ],
   "source": [
    "### Get a daily estimate of the parameter and then take and average\n",
    "c_daily_float = []\n",
    "\n",
    "days = data['date'].unique()\n",
    "\n",
    "for day in days:\n",
    "    \n",
    "    # estimate levy parameters\n",
    "    c = levy.fit(data.loc[data['date']==day,]['delta_ts'].dropna(), #floc = 0,\n",
    "                )[1]\n",
    "    \n",
    "    # append it to the list\n",
    "    c_daily_float.append(c)\n"
   ]
  },
  {
   "cell_type": "code",
   "execution_count": 8,
   "id": "d39ea6e5-9579-4c1f-ad6f-12a6735b8550",
   "metadata": {},
   "outputs": [],
   "source": [
    "### Get a 30 minute block estimate of the parameter and then take an average\n",
    "c_30_minutes_float = []\n",
    "\n",
    "blocks = data['bin'].unique()\n",
    "\n",
    "# for each day\n",
    "for day in days:\n",
    "    \n",
    "    # for each block\n",
    "    for block in blocks:\n",
    "        \n",
    "        # estimate parameters\n",
    "        c = levy.fit(data.loc[(data['date']==day) & (data['bin'] == block),]['delta_ts'].dropna(), #floc = 0,\n",
    "                    )[1]\n",
    "        \n",
    "        # append the result\n",
    "        c_30_minutes_float.append(c)"
   ]
  },
  {
   "cell_type": "code",
   "execution_count": 9,
   "id": "53fe1bf4-d165-4c6f-aa7b-a5bc04b61ca6",
   "metadata": {},
   "outputs": [],
   "source": [
    "## get an estimate using the entier data\n",
    "c_entire = invgamma.fit(data.loc[data['date']==day,]['delta_ts'].dropna())[1]"
   ]
  },
  {
   "cell_type": "code",
   "execution_count": 36,
   "id": "364f5656-7e91-407b-a571-08f077c287f8",
   "metadata": {},
   "outputs": [],
   "source": [
    "summaries = pd.DataFrame(\n",
    "[np.mean(c_daily_float),\n",
    " np.mean(c_30_minutes_float),\n",
    " c_entire],\n",
    "    columns = ['$c$'],\n",
    "    index = ['Daily Block', '30 Minutes Block', 'Entire Data']\n",
    ")"
   ]
  },
  {
   "cell_type": "code",
   "execution_count": 37,
   "id": "ca34fffd-824e-4673-b7ad-76bf1cac6e4f",
   "metadata": {},
   "outputs": [
    {
     "data": {
      "text/html": [
       "<div>\n",
       "<style scoped>\n",
       "    .dataframe tbody tr th:only-of-type {\n",
       "        vertical-align: middle;\n",
       "    }\n",
       "\n",
       "    .dataframe tbody tr th {\n",
       "        vertical-align: top;\n",
       "    }\n",
       "\n",
       "    .dataframe thead th {\n",
       "        text-align: right;\n",
       "    }\n",
       "</style>\n",
       "<table border=\"1\" class=\"dataframe\">\n",
       "  <thead>\n",
       "    <tr style=\"text-align: right;\">\n",
       "      <th></th>\n",
       "      <th>$c$</th>\n",
       "    </tr>\n",
       "  </thead>\n",
       "  <tbody>\n",
       "    <tr>\n",
       "      <th>Daily Block</th>\n",
       "      <td>6.599430e-05</td>\n",
       "    </tr>\n",
       "    <tr>\n",
       "      <th>30 Minutes Block</th>\n",
       "      <td>2.182191e-02</td>\n",
       "    </tr>\n",
       "    <tr>\n",
       "      <th>Entire Data</th>\n",
       "      <td>2.915776e-07</td>\n",
       "    </tr>\n",
       "  </tbody>\n",
       "</table>\n",
       "</div>"
      ],
      "text/plain": [
       "                           $c$\n",
       "Daily Block       6.599430e-05\n",
       "30 Minutes Block  2.182191e-02\n",
       "Entire Data       2.915776e-07"
      ]
     },
     "execution_count": 37,
     "metadata": {},
     "output_type": "execute_result"
    }
   ],
   "source": [
    "summaries"
   ]
  },
  {
   "cell_type": "code",
   "execution_count": 42,
   "id": "9ca54bda-918f-4373-a67d-4ee64c2f5868",
   "metadata": {},
   "outputs": [
    {
     "name": "stdout",
     "output_type": "stream",
     "text": [
      "\\begin{table}[H]\n",
      "\\centering\n",
      "\\caption{Estimated scale parameter for the Levy distribution of the first-hitting times in seconds for Apple in 2017}\n",
      "\\begin{tabular}{lr}\n",
      "\\toprule\n",
      "{} &      $c$ \\\\\n",
      "\\midrule\n",
      "Daily Block      & 6.60E-05 \\\\\n",
      "30 Minutes Block & 2.18E-02 \\\\\n",
      "Entire Data      & 2.92E-07 \\\\\n",
      "\\bottomrule\n",
      "\\end{tabular}\n",
      "\\end{table}\n",
      "\n"
     ]
    },
    {
     "name": "stderr",
     "output_type": "stream",
     "text": [
      "<ipython-input-42-c472c3b4df94>:1: FutureWarning: In future versions `DataFrame.to_latex` is expected to utilise the base implementation of `Styler.to_latex` for formatting and rendering. The arguments signature may therefore change. It is recommended instead to use `DataFrame.style.to_latex` which also contains additional functionality.\n",
      "  print(summaries.to_latex( caption = 'Estimated scale parameter for the Levy distribution of the first-hitting times in seconds for Apple in 2017',\n"
     ]
    }
   ],
   "source": [
    "print(summaries.to_latex( caption = 'Estimated scale parameter for the Levy distribution of the first-hitting times in seconds for Apple in 2017',\n",
    "                        float_format=\"%.2\",\n",
    "                        formatters = {'$c$': \"{:.2E}\".format,\n",
    "                                     },\n",
    "                        position = 'H',\n",
    "                         escape=False))"
   ]
  },
  {
   "cell_type": "code",
   "execution_count": null,
   "id": "d3a0008d-7087-43dc-8999-f8a2a11fe41b",
   "metadata": {},
   "outputs": [],
   "source": []
  },
  {
   "cell_type": "code",
   "execution_count": null,
   "id": "188e2b50-8f26-4178-b1bc-35996adce728",
   "metadata": {},
   "outputs": [],
   "source": []
  },
  {
   "cell_type": "markdown",
   "id": "dba423d3-033a-4375-8c3e-e9b2066d629d",
   "metadata": {},
   "source": [
    "### Plots"
   ]
  },
  {
   "cell_type": "markdown",
   "id": "18efe315-2f4f-4c33-ba54-fef0389e5c98",
   "metadata": {},
   "source": [
    "#### $c$ fixed location"
   ]
  },
  {
   "cell_type": "code",
   "execution_count": 63,
   "id": "9067af14-26be-4303-9c10-e35269367df0",
   "metadata": {},
   "outputs": [
    {
     "data": {
      "image/png": "[encoded data removed]",
      "text/plain": [
       "<Figure size 432x288 with 1 Axes>"
      ]
     },
     "metadata": {
      "needs_background": "light"
     },
     "output_type": "display_data"
    },
    {
     "data": {
      "image/png": "[encoded data removed]",
      "text/plain": [
       "<Figure size 432x288 with 1 Axes>"
      ]
     },
     "metadata": {
      "needs_background": "light"
     },
     "output_type": "display_data"
    },
    {
     "data": {
      "image/png": "[encoded data removed]",
      "text/plain": [
       "<Figure size 432x288 with 1 Axes>"
      ]
     },
     "metadata": {
      "needs_background": "light"
     },
     "output_type": "display_data"
    }
   ],
   "source": [
    "### plotting the scale and shape parameters\n",
    "sns.kdeplot(c_daily, label = r\"Daily Estimate $c$\")\n",
    "sns.kdeplot(c_30_minutes, label = r\"30 Minute Block $c$\")\n",
    "\n",
    "\n",
    "#plt.title(r'Density Plot of $c$ (Location Parameter = 0)')\n",
    "plt.legend()\n",
    "\n",
    "\n",
    "#plt.savefig('figures/parameters/c_density', facecolor='w')\n",
    "plt.show()\n",
    "plt.close()\n",
    "\n",
    "\n",
    "#sns.kdeplot(c_daily, label = r\"Daily Estimate $c$\")\n",
    "#plt.title(r'Density Plot of $c$ (Location Parameter = 0)')\n",
    "plt.legend()\n",
    "\n",
    "\n",
    "#plt.savefig('figures/parameters/c_density_daily', facecolor='w')\n",
    "plt.show()\n",
    "plt.close()\n",
    "\n",
    "sns.kdeplot(c_30_minutes, label = r\"30 Minute Block Estimate $c$\",\n",
    "           color = 'orange')\n",
    "#plt.title(r'Density Plot of $c$ (Location Parameter = 0)')\n",
    "plt.legend()\n",
    "\n",
    "\n",
    "#plt.savefig('figures/parameters/c_density_30_min', facecolor='w')\n",
    "plt.show()\n",
    "plt.close()"
   ]
  },
  {
   "cell_type": "code",
   "execution_count": null,
   "id": "4c51676e-70f3-44b1-b9f7-68602a31a803",
   "metadata": {},
   "outputs": [],
   "source": []
  },
  {
   "cell_type": "markdown",
   "id": "c5fb7b1b-1d59-4234-9431-f880dd7de031",
   "metadata": {},
   "source": [
    "#### $c$ floating"
   ]
  },
  {
   "cell_type": "code",
   "execution_count": 64,
   "id": "12518654-699d-4bc4-9da2-a93a20344179",
   "metadata": {},
   "outputs": [
    {
     "data": {
      "image/png": "[encoded data removed]",
      "text/plain": [
       "<Figure size 432x288 with 1 Axes>"
      ]
     },
     "metadata": {
      "needs_background": "light"
     },
     "output_type": "display_data"
    },
    {
     "data": {
      "image/png": "[encoded data removed]",
      "text/plain": [
       "<Figure size 432x288 with 1 Axes>"
      ]
     },
     "metadata": {
      "needs_background": "light"
     },
     "output_type": "display_data"
    },
    {
     "data": {
      "image/png": "[encoded data removed]",
      "text/plain": [
       "<Figure size 432x288 with 1 Axes>"
      ]
     },
     "metadata": {
      "needs_background": "light"
     },
     "output_type": "display_data"
    }
   ],
   "source": [
    "### plotting the scale and shape parameters\n",
    "sns.kdeplot(c_daily_float, label = r\"Daily Estimate $c$\")\n",
    "sns.kdeplot(c_30_minutes_float, label = r\"30 Minute Block $c$\")\n",
    "#plt.title(r'Density Plot of $c$ (Floating Location Parameter)')\n",
    "plt.legend()\n",
    "#plt.savefig('figures/parameters/c_density_float', facecolor='w')\n",
    "plt.show()\n",
    "plt.close()\n",
    "\n",
    "\n",
    "\n",
    "sns.kdeplot(c_daily_float, label = r\"Daily Estimate $c$\")\n",
    "#plt.title(r'Density Plot of $c$ (Floating Location Parameter)')\n",
    "plt.legend()\n",
    "#plt.savefig('figures/parameters/c_density_daily_float', facecolor='w')\n",
    "plt.show()\n",
    "plt.close()\n",
    "\n",
    "\n",
    "sns.kdeplot(c_30_minutes_float, label = r\"30 Minute Block $c$\",\n",
    "            color = 'orange')\n",
    "#plt.title(r'Density Plot of $c$ (Floating Location Parameter)')\n",
    "plt.legend()\n",
    "#plt.savefig('figures/parameters/c_density_30_min_float', facecolor='w')\n",
    "plt.show()\n",
    "plt.close()"
   ]
  },
  {
   "cell_type": "code",
   "execution_count": null,
   "id": "5e7396ec-9b4b-4f2b-a2c2-65464107b643",
   "metadata": {},
   "outputs": [],
   "source": []
  }
 ],
 "metadata": {
  "kernelspec": {
   "display_name": "Python 3",
   "language": "python",
   "name": "python3"
  },
  "language_info": {
   "codemirror_mode": {
    "name": "ipython",
    "version": 3
   },
   "file_extension": ".py",
   "mimetype": "text/x-python",
   "name": "python",
   "nbconvert_exporter": "python",
   "pygments_lexer": "ipython3",
   "version": "3.8.8"
  }
 },
 "nbformat": 4,
 "nbformat_minor": 5
}
