{
 "cells": [
  {
   "cell_type": "markdown",
   "id": "3a0f3f4c-7844-48dd-9d69-a4f946172776",
   "metadata": {},
   "source": [
    "## Load Libraries"
   ]
  },
  {
   "cell_type": "code",
   "execution_count": 1,
   "id": "b88d4b1a-1a48-496c-9841-e83b305e3ffa",
   "metadata": {},
   "outputs": [],
   "source": [
    "import numpy as np\n",
    "import pandas as pd\n",
    "\n",
    "import matplotlib.pyplot as plt\n",
    "import seaborn as sns\n",
    "\n",
    "# distributions\n",
    "import scipy.integrate as integrate\n",
    "from scipy.integrate import quad, quad_vec\n",
    "from scipy.stats import invgamma\n",
    "from scipy.stats import levy\n",
    "from scipy.special import gamma, erfinv\n",
    "\n",
    "import time\n",
    "from datetime import datetime, timedelta\n",
    "\n",
    "import sys\n",
    "import importlib # ref: https://askubuntu.com/questions/144698/find-a-file-by-name-using-command-line\n",
    "import seaborn as sns\n",
    "\n",
    "import os"
   ]
  },
  {
   "cell_type": "code",
   "execution_count": 2,
   "id": "0eca3397-7a5e-476e-b1ef-593a8bb3158d",
   "metadata": {},
   "outputs": [],
   "source": [
    "sys.path.append('../tools')\n",
    "import tools"
   ]
  },
  {
   "cell_type": "code",
   "execution_count": 3,
   "id": "93fbfeaf-e571-4b0d-ab3e-11953c3af734",
   "metadata": {},
   "outputs": [
    {
     "data": {
      "text/plain": [
       "<module 'tools' from '../tools/tools.py'>"
      ]
     },
     "execution_count": 3,
     "metadata": {},
     "output_type": "execute_result"
    }
   ],
   "source": [
    "importlib.reload(tools)"
   ]
  },
  {
   "cell_type": "markdown",
   "id": "8e59f8b9-d27b-4916-8466-e7ff0d0568f8",
   "metadata": {},
   "source": [
    "## Download Data"
   ]
  },
  {
   "cell_type": "code",
   "execution_count": 4,
   "id": "8ec29c0b-550f-4030-92d5-4d436ae8584b",
   "metadata": {},
   "outputs": [],
   "source": [
    "df = pd.read_csv('data/apple_cleaned.csv')"
   ]
  },
  {
   "cell_type": "markdown",
   "id": "0f81f425-93d4-4a32-9a54-e0f310d73b1d",
   "metadata": {},
   "source": [
    "## Estimate Spot Volatility"
   ]
  },
  {
   "cell_type": "code",
   "execution_count": 5,
   "id": "33c55d17-6652-483c-b687-f7982319abca",
   "metadata": {},
   "outputs": [],
   "source": [
    "# decide whether you use sample or not\n",
    "sample = False\n",
    "\n",
    "if sample:\n",
    "    data = df[df['date']< '2017-01-30']\n",
    "    \n",
    "else:\n",
    "    data = df.copy()"
   ]
  },
  {
   "cell_type": "code",
   "execution_count": 6,
   "id": "e264978f-1deb-4f12-9cbf-cdc18ff1b629",
   "metadata": {},
   "outputs": [],
   "source": [
    "# Plot style\n",
    "widths = [1,1,1,1,2]\n",
    "types = ['solid','dashed','dashdot','dotted', 'dotted']"
   ]
  },
  {
   "cell_type": "code",
   "execution_count": 7,
   "id": "e2d3e31f-1e7e-40b3-94e4-bbcbf36c624b",
   "metadata": {},
   "outputs": [],
   "source": [
    "gs =  [ 0.5, 1, 2, 4]"
   ]
  },
  {
   "cell_type": "code",
   "execution_count": 156,
   "id": "8d7acc97-9aeb-45d5-9964-cb7bb5af857a",
   "metadata": {},
   "outputs": [
    {
     "data": {
      "text/plain": [
       "1.0000000000000002e-06"
      ]
     },
     "execution_count": 156,
     "metadata": {},
     "output_type": "execute_result"
    }
   ],
   "source": [
    "np.nanmin(data['delta_ts'])"
   ]
  },
  {
   "cell_type": "markdown",
   "id": "8d5b6ada-cf26-4924-aeaf-d9e1bbbcb636",
   "metadata": {},
   "source": [
    "### By bins"
   ]
  },
  {
   "cell_type": "markdown",
   "id": "7e461c67-5275-4f08-9e1e-00e5f6932177",
   "metadata": {},
   "source": [
    "#### Wide 0"
   ]
  },
  {
   "cell_type": "code",
   "execution_count": 9,
   "id": "3827c550-768a-4bb8-8093-fd489f9529c5",
   "metadata": {},
   "outputs": [],
   "source": [
    "ts = np.array([0.0000001, 0.000001, 0.00001, 0.0001, 0.001, 0.01, 0.1, 1, 10])"
   ]
  },
  {
   "cell_type": "markdown",
   "id": "46e666dd-906e-42c7-bb70-7473e380b349",
   "metadata": {},
   "source": [
    "#### Pdf and Cdf"
   ]
  },
  {
   "cell_type": "code",
   "execution_count": 157,
   "id": "5f229350-1715-455b-a741-bc89938031c0",
   "metadata": {},
   "outputs": [],
   "source": [
    "delta = (3*8*n**(1/5))/(2*(max(ts) - min(ts)))"
   ]
  },
  {
   "cell_type": "code",
   "execution_count": 158,
   "id": "e0d20338-244b-4e3c-bb3f-e103009ba5e6",
   "metadata": {},
   "outputs": [
    {
     "data": {
      "text/plain": [
       "38.997492424147275"
      ]
     },
     "execution_count": 158,
     "metadata": {},
     "output_type": "execute_result"
    }
   ],
   "source": [
    "delta"
   ]
  },
  {
   "cell_type": "code",
   "execution_count": 189,
   "id": "224b71d7-2732-4f4b-8b41-587ffa357355",
   "metadata": {},
   "outputs": [
    {
     "name": "stdout",
     "output_type": "stream",
     "text": [
      "Time : 19.68779706954956 for t = 1e-07 for i = 0\n",
      "Time : 21.29036593437195 for t = 1e-06 for i = 1\n"
     ]
    }
   ],
   "source": [
    "##### check the for loop, is it actually doing what it is supposed to d\n",
    "sigma_hats_ts = []\n",
    "f_hats_ts = []\n",
    "F_hats_ts= []\n",
    "\n",
    "constant = 400\n",
    "n = np.shape(data)[0]\n",
    "delta = (np.sqrt(n)/2)*constant\n",
    "#delta = (3*8*n**(1/5))/(2*(max(ts) - min(ts)))\n",
    "\n",
    "# subset the dataframe\n",
    "t_g_ws = np.array(data['delta_ts']) \n",
    "    \n",
    "# for each t\n",
    "for (t, i) in zip(ts, range(0, len(ts))):\n",
    "    \n",
    "\n",
    "    # start_time for current iteration\n",
    "    start_time = time.time()\n",
    "    \n",
    "\n",
    "    # calculate f_hat\n",
    "    f_hat = tools.f_hat_t(t, t_g_ws, delta)\n",
    "\n",
    "    # calculate F_hat\n",
    "    F_hat = tools.F_hat_t(t, t_g_ws, delta)\n",
    "\n",
    "    \n",
    "    # store the estimates\n",
    "    f_hats_ts.append(f_hat)\n",
    "    F_hats_ts.append(F_hat)\n",
    "\n",
    "    # show the end time\n",
    "    end_time = time.time()  \n",
    "    \n",
    "    \n",
    "    if i in [0,1, 10, 100, 500, 750, 1000, 5000, 10000]:\n",
    "        print(f\"Time : {end_time - start_time} for t = {t} for i = {i}\")"
   ]
  },
  {
   "cell_type": "code",
   "execution_count": null,
   "id": "1467101d-dae3-4835-bd34-e1b68e5dc913",
   "metadata": {},
   "outputs": [],
   "source": []
  },
  {
   "cell_type": "markdown",
   "id": "29c3a90b-2169-4001-b6f6-c0ec08a4a675",
   "metadata": {},
   "source": [
    "#### Spot Volatility"
   ]
  },
  {
   "cell_type": "code",
   "execution_count": 163,
   "id": "c8934ec2-2e46-4932-a187-d88b6a71e0f0",
   "metadata": {},
   "outputs": [],
   "source": [
    "#a_n = (8*(n)**(0.2))/(max(ts) - min(ts))"
   ]
  },
  {
   "cell_type": "code",
   "execution_count": 190,
   "id": "16635182-6484-42d5-a73b-ade0a6dc5c58",
   "metadata": {},
   "outputs": [],
   "source": [
    "a_n = (2/3)*delta"
   ]
  },
  {
   "cell_type": "code",
   "execution_count": 191,
   "id": "a1c67e87-c331-4982-9962-2fdf0e42b1a9",
   "metadata": {},
   "outputs": [
    {
     "name": "stderr",
     "output_type": "stream",
     "text": [
      "<ipython-input-191-3cdd944aad3e>:16: RuntimeWarning: divide by zero encountered in double_scalars\n",
      "  std = np.sqrt((n/a_n)*(tools.fgW( tools.PgW_inv(F_hats_ts[i], g), g)/f_hats_ts[i]))**(-1)\n"
     ]
    }
   ],
   "source": [
    "sigma_hats_gs = []\n",
    "std_gs = []\n",
    "\n",
    "for g_i, g in zip(range(0, len(gs)), gs):\n",
    "    \n",
    "    sigma_hats_ts = []\n",
    "    std_ts = []\n",
    "    \n",
    "    # for each t\n",
    "    for i, t in zip(range(0, len(ts)),ts):\n",
    "        \n",
    "        sigma_hats_t = tools.sigma_hat_t(f_hats_ts[i],  F_hats_ts[i], g)[0]\n",
    "        sigma_hats_ts.append(sigma_hats_t)\n",
    "        \n",
    "        # calculate standard deviation\n",
    "        std = np.sqrt((n/a_n)*(tools.fgW( tools.PgW_inv(F_hats_ts[i], g), g)/f_hats_ts[i]))**(-1)\n",
    "        std_ts.append(std)\n",
    "    \n",
    "    sigma_hats_gs.append(sigma_hats_ts)\n",
    "    std_gs.append(std_ts)\n",
    "    \n",
    "    \n",
    "    "
   ]
  },
  {
   "cell_type": "code",
   "execution_count": null,
   "id": "e20b6ac9-fce3-461b-8091-cdb8870f7972",
   "metadata": {},
   "outputs": [],
   "source": []
  },
  {
   "cell_type": "code",
   "execution_count": null,
   "id": "a1192b21-8643-4966-94bb-9ae2ec809f8d",
   "metadata": {},
   "outputs": [],
   "source": []
  },
  {
   "cell_type": "markdown",
   "id": "6b116bd7-6531-438f-9540-e583332e0359",
   "metadata": {},
   "source": [
    "#### Summary Stats"
   ]
  },
  {
   "cell_type": "code",
   "execution_count": 166,
   "id": "f78cf224-0eef-4dc2-9367-9923121767f7",
   "metadata": {},
   "outputs": [],
   "source": [
    "summary_stats = [np.nanmean]\n",
    "\n",
    "# list to store summaries\n",
    "summaries = []\n",
    "\n",
    "# for each t\n",
    "for i, t in zip(range(0, len(ts)),ts):\n",
    "    \n",
    "    \n",
    "    # calculate summary stats\n",
    "    f_stats = tools.estimation_summary(f_hats_ts[i], summary_stats, rounding = 10)\n",
    "    F_stats = tools.estimation_summary(F_hats_ts[i], summary_stats, rounding = 10)\n",
    "    # create a dataframe\n",
    "    summary_t = pd.DataFrame([f_stats, F_stats],columns =  ['Mean'],\n",
    "                            index = [np.tile(t, 2) , ['$\\widehat{f}$', '$\\widehat{F}$']])\n",
    "    \n",
    "    summary_t.index.set_names(['t', 'Statistics'], inplace = True)\n",
    "    \n",
    "    # store the summary\n",
    "    summaries.append(summary_t)\n",
    "\n",
    "    \n"
   ]
  },
  {
   "cell_type": "code",
   "execution_count": 167,
   "id": "d2982cce-2615-48e0-becd-e47e06d51153",
   "metadata": {},
   "outputs": [],
   "source": [
    "summaries_pdf_cdf = pd.concat(summaries).reset_index().pivot(index=['t'], columns='Statistics', values='Mean')"
   ]
  },
  {
   "cell_type": "code",
   "execution_count": 168,
   "id": "7a791f95-fc90-400e-8003-3c36a5f4c0b1",
   "metadata": {},
   "outputs": [],
   "source": [
    "columns_titles = [\"$\\widehat{f}$\",\"$\\widehat{F}$\"]\n",
    "summaries_pdf_cdf = summaries_pdf_cdf.reindex(columns=columns_titles)\n",
    "\n",
    "summaries_pdf_cdf = summaries_pdf_cdf.reset_index()\n",
    "summaries_pdf_cdf.columns.name = ''"
   ]
  },
  {
   "cell_type": "code",
   "execution_count": null,
   "id": "f1e57f6d-23a8-492d-ae37-582c34611293",
   "metadata": {},
   "outputs": [],
   "source": []
  },
  {
   "cell_type": "code",
   "execution_count": 170,
   "id": "bb837164-8526-4306-846c-f3e942e5e558",
   "metadata": {},
   "outputs": [
    {
     "name": "stdout",
     "output_type": "stream",
     "text": [
      "\\begin{table}[H]\n",
      "\\centering\n",
      "\\caption{Estimated pdf and cdf of the first-hitting times in seconds for Apple in 2017 and several t}\n",
      "\\label{empirics_table_estpdfcdf}\n",
      "\\begin{tabular}{rrr}\n",
      "\\toprule\n",
      "       t & $\\widehat{f}$ & $\\widehat{F}$ \\\\\n",
      "\\midrule\n",
      "1.00E-07 &      2.52E+01 &      3.11E-01 \\\\\n",
      "1.00E-06 &      2.52E+01 &      3.11E-01 \\\\\n",
      "1.00E-05 &      2.52E+01 &      3.11E-01 \\\\\n",
      "1.00E-04 &      2.52E+01 &      3.13E-01 \\\\\n",
      "1.00E-03 &      2.48E+01 &      3.36E-01 \\\\\n",
      "1.00E-02 &      1.75E+01 &      5.28E-01 \\\\\n",
      "1.00E-01 &      7.01E-01 &      7.61E-01 \\\\\n",
      "1.00E+00 &      7.63E-02 &      9.55E-01 \\\\\n",
      "1.00E+01 &      3.85E-06 &      1.00E+00 \\\\\n",
      "\\bottomrule\n",
      "\\end{tabular}\n",
      "\\end{table}\n",
      "\n"
     ]
    },
    {
     "name": "stderr",
     "output_type": "stream",
     "text": [
      "<ipython-input-170-4f0667ccdca4>:1: FutureWarning: In future versions `DataFrame.to_latex` is expected to utilise the base implementation of `Styler.to_latex` for formatting and rendering. The arguments signature may therefore change. It is recommended instead to use `DataFrame.style.to_latex` which also contains additional functionality.\n",
      "  print(summaries_pdf_cdf.to_latex( caption = 'Estimated pdf and cdf of the first-hitting times in seconds for Apple in 2017 and several t',\n"
     ]
    }
   ],
   "source": [
    "print(summaries_pdf_cdf.to_latex( caption = 'Estimated pdf and cdf of the first-hitting times in seconds for Apple in 2017 and several t',\n",
    "                        float_format=\"%.2f\",\n",
    "                        formatters = {'t': \"{:.2E}\".format,\n",
    "                                      'Mean': \"{:.2E}\".format,\n",
    "                                      '$\\widehat{f}$': \"{:.2E}\".format,\n",
    "                                      '$\\widehat{F}$': \"{:.2E}\".format,\n",
    "                                      \n",
    "                                      \n",
    "#                                       'Median': \"{:.2E}\".format,\n",
    "#                                       'Std': \"{:.2E}\".format,\n",
    "#                                       '5.0%': \"{:.2E}\".format,\n",
    "#                                       '95%': \"{:.2E}\".format\n",
    "                                     },\n",
    "                        index = False,\n",
    "                        position = 'H',\n",
    "                        label = 'empirics_table_estpdfcdf',\n",
    "                        #longtable = True,\n",
    "                        escape=False))"
   ]
  },
  {
   "cell_type": "code",
   "execution_count": null,
   "id": "9b7d003d-9ce7-465f-8bbf-44bb9fd6f3fd",
   "metadata": {},
   "outputs": [],
   "source": []
  },
  {
   "cell_type": "code",
   "execution_count": 171,
   "id": "26b4c42b-616c-444b-b36d-f0d5a6633ba2",
   "metadata": {},
   "outputs": [],
   "source": [
    "summary_stats = [np.nanmean]\n",
    "summaries = []\n",
    "\n",
    "# Iterate over groups\n",
    "for g_i, g in enumerate(gs):\n",
    "    sigma_hats_g = sigma_hats_gs[g_i]\n",
    "\n",
    "    # Iterate over time periods\n",
    "    for i, t in enumerate(ts):\n",
    "        sigma_hats = sigma_hats_g[i]\n",
    "\n",
    "        # Calculate summary statistics\n",
    "        sigma_hats_stats = tools.estimation_summary(sigma_hats, summary_stats, rounding=10)\n",
    "\n",
    "        # Create a dataframe\n",
    "        summary_t = pd.DataFrame([sigma_hats_stats],\n",
    "                                 columns=['Mean'],\n",
    "                                 index=pd.MultiIndex.from_tuples([(g, t, '$\\widehat{\\sigma}_{t}$')],\n",
    "                                                                 names=['g', 't', 'Statistics']))\n",
    "\n",
    "        summaries.append(summary_t)"
   ]
  },
  {
   "cell_type": "code",
   "execution_count": 181,
   "id": "d67a22a0-7d99-4445-95f2-7beedd8c3f68",
   "metadata": {},
   "outputs": [
    {
     "data": {
      "text/html": [
       "<div>\n",
       "<style scoped>\n",
       "    .dataframe tbody tr th:only-of-type {\n",
       "        vertical-align: middle;\n",
       "    }\n",
       "\n",
       "    .dataframe tbody tr th {\n",
       "        vertical-align: top;\n",
       "    }\n",
       "\n",
       "    .dataframe thead th {\n",
       "        text-align: right;\n",
       "    }\n",
       "</style>\n",
       "<table border=\"1\" class=\"dataframe\">\n",
       "  <thead>\n",
       "    <tr style=\"text-align: right;\">\n",
       "      <th></th>\n",
       "      <th>g</th>\n",
       "      <th>0.5</th>\n",
       "      <th>1.0</th>\n",
       "      <th>2.0</th>\n",
       "      <th>4.0</th>\n",
       "    </tr>\n",
       "    <tr>\n",
       "      <th>t</th>\n",
       "      <th>Statistics</th>\n",
       "      <th></th>\n",
       "      <th></th>\n",
       "      <th></th>\n",
       "      <th></th>\n",
       "    </tr>\n",
       "  </thead>\n",
       "  <tbody>\n",
       "    <tr>\n",
       "      <th>1.000000e-07</th>\n",
       "      <th>Standard Deviation</th>\n",
       "      <td>0.004264</td>\n",
       "      <td>0.008527</td>\n",
       "      <td>0.017055</td>\n",
       "      <td>0.034110</td>\n",
       "    </tr>\n",
       "    <tr>\n",
       "      <th>1.000000e-06</th>\n",
       "      <th>Standard Deviation</th>\n",
       "      <td>0.004264</td>\n",
       "      <td>0.008528</td>\n",
       "      <td>0.017056</td>\n",
       "      <td>0.034112</td>\n",
       "    </tr>\n",
       "    <tr>\n",
       "      <th>1.000000e-05</th>\n",
       "      <th>Standard Deviation</th>\n",
       "      <td>0.004266</td>\n",
       "      <td>0.008533</td>\n",
       "      <td>0.017066</td>\n",
       "      <td>0.034132</td>\n",
       "    </tr>\n",
       "    <tr>\n",
       "      <th>1.000000e-04</th>\n",
       "      <th>Standard Deviation</th>\n",
       "      <td>0.004287</td>\n",
       "      <td>0.008574</td>\n",
       "      <td>0.017148</td>\n",
       "      <td>0.034296</td>\n",
       "    </tr>\n",
       "    <tr>\n",
       "      <th>1.000000e-03</th>\n",
       "      <th>Standard Deviation</th>\n",
       "      <td>0.004463</td>\n",
       "      <td>0.008926</td>\n",
       "      <td>0.017852</td>\n",
       "      <td>0.035704</td>\n",
       "    </tr>\n",
       "    <tr>\n",
       "      <th>1.000000e-02</th>\n",
       "      <th>Standard Deviation</th>\n",
       "      <td>0.006189</td>\n",
       "      <td>0.012378</td>\n",
       "      <td>0.024756</td>\n",
       "      <td>0.049512</td>\n",
       "    </tr>\n",
       "    <tr>\n",
       "      <th>1.000000e-01</th>\n",
       "      <th>Standard Deviation</th>\n",
       "      <td>0.003421</td>\n",
       "      <td>0.006842</td>\n",
       "      <td>0.013684</td>\n",
       "      <td>0.027367</td>\n",
       "    </tr>\n",
       "    <tr>\n",
       "      <th>1.000000e+00</th>\n",
       "      <th>Standard Deviation</th>\n",
       "      <td>0.013609</td>\n",
       "      <td>0.027217</td>\n",
       "      <td>0.054434</td>\n",
       "      <td>0.108869</td>\n",
       "    </tr>\n",
       "    <tr>\n",
       "      <th>1.000000e+01</th>\n",
       "      <th>Standard Deviation</th>\n",
       "      <td>16.078605</td>\n",
       "      <td>32.157210</td>\n",
       "      <td>64.314420</td>\n",
       "      <td>128.628840</td>\n",
       "    </tr>\n",
       "  </tbody>\n",
       "</table>\n",
       "</div>"
      ],
      "text/plain": [
       "g                                      0.5        1.0        2.0         4.0\n",
       "t            Statistics                                                     \n",
       "1.000000e-07 Standard Deviation   0.004264   0.008527   0.017055    0.034110\n",
       "1.000000e-06 Standard Deviation   0.004264   0.008528   0.017056    0.034112\n",
       "1.000000e-05 Standard Deviation   0.004266   0.008533   0.017066    0.034132\n",
       "1.000000e-04 Standard Deviation   0.004287   0.008574   0.017148    0.034296\n",
       "1.000000e-03 Standard Deviation   0.004463   0.008926   0.017852    0.035704\n",
       "1.000000e-02 Standard Deviation   0.006189   0.012378   0.024756    0.049512\n",
       "1.000000e-01 Standard Deviation   0.003421   0.006842   0.013684    0.027367\n",
       "1.000000e+00 Standard Deviation   0.013609   0.027217   0.054434    0.108869\n",
       "1.000000e+01 Standard Deviation  16.078605  32.157210  64.314420  128.628840"
      ]
     },
     "execution_count": 181,
     "metadata": {},
     "output_type": "execute_result"
    }
   ],
   "source": [
    "pd.concat(summaries).reset_index().pivot(index=['t', 'Statistics'], columns='g', values='Mean')"
   ]
  },
  {
   "cell_type": "code",
   "execution_count": 182,
   "id": "19fe1a52-3adb-4230-9bb5-8f0cfb9a1381",
   "metadata": {},
   "outputs": [],
   "source": [
    "summaries_sigma = pd.concat(summaries).reset_index().pivot(index=['t', 'Statistics'], columns='g', values='Mean')"
   ]
  },
  {
   "cell_type": "code",
   "execution_count": 183,
   "id": "fbe822fe-1226-456b-b61a-454f2f08355d",
   "metadata": {},
   "outputs": [
    {
     "name": "stdout",
     "output_type": "stream",
     "text": [
      "\\begin{table}[H]\n",
      "\\centering\n",
      "\\caption{Estimated instantaneous variance of the first-hitting times in seconds for Apple in 2017 and several $t$}\n",
      "\\label{table:est_spt_vol}\n",
      "\\begin{tabular}{llrrrr}\n",
      "\\toprule\n",
      "             & g &   0.5 &   1.0 &   2.0 &    4.0 \\\\\n",
      "t & Statistics &       &       &       &        \\\\\n",
      "\\midrule\n",
      "1.000000e-07 & Standard Deviation &  0.00 &  0.01 &  0.02 &   0.03 \\\\\n",
      "1.000000e-06 & Standard Deviation &  0.00 &  0.01 &  0.02 &   0.03 \\\\\n",
      "1.000000e-05 & Standard Deviation &  0.00 &  0.01 &  0.02 &   0.03 \\\\\n",
      "1.000000e-04 & Standard Deviation &  0.00 &  0.01 &  0.02 &   0.03 \\\\\n",
      "1.000000e-03 & Standard Deviation &  0.00 &  0.01 &  0.02 &   0.04 \\\\\n",
      "1.000000e-02 & Standard Deviation &  0.01 &  0.01 &  0.02 &   0.05 \\\\\n",
      "1.000000e-01 & Standard Deviation &  0.00 &  0.01 &  0.01 &   0.03 \\\\\n",
      "1.000000e+00 & Standard Deviation &  0.01 &  0.03 &  0.05 &   0.11 \\\\\n",
      "1.000000e+01 & Standard Deviation & 16.08 & 32.16 & 64.31 & 128.63 \\\\\n",
      "\\bottomrule\n",
      "\\end{tabular}\n",
      "\\end{table}\n",
      "\n"
     ]
    },
    {
     "name": "stderr",
     "output_type": "stream",
     "text": [
      "<ipython-input-183-7e042212c3ba>:1: FutureWarning: In future versions `DataFrame.to_latex` is expected to utilise the base implementation of `Styler.to_latex` for formatting and rendering. The arguments signature may therefore change. It is recommended instead to use `DataFrame.style.to_latex` which also contains additional functionality.\n",
      "  print(summaries_sigma.to_latex( caption = 'Estimated instantaneous variance of the first-hitting times in seconds for Apple in 2017 and several $t$',\n"
     ]
    }
   ],
   "source": [
    "print(summaries_sigma.to_latex( caption = 'Estimated instantaneous variance of the first-hitting times in seconds for Apple in 2017 and several $t$',\n",
    "                        float_format=\"%.2f\",\n",
    "                        formatters = {'t': \"{:.2E}\".format,\n",
    "                                      '0.5': \"{:.2E}\".format,\n",
    "                                      '1.0': \"{:.2E}\".format,\n",
    "                                      '2.0': \"{:.2E}\".format,\n",
    "                                      '4.0': \"{:.2E}\".format,\n",
    "                                      '1.0': \"{:.2E}\".format,\n",
    "                                      },\n",
    "                        position = 'H',\n",
    "                        #longtable = True,\n",
    "                        escape=False,\n",
    "                        label = 'table:est_spt_vol'))"
   ]
  },
  {
   "cell_type": "code",
   "execution_count": 184,
   "id": "384c6ece-98ff-45ba-b147-2024ee82f5a8",
   "metadata": {},
   "outputs": [],
   "source": [
    "summary_stats = [np.nanmean]\n",
    "summaries = []\n",
    "\n",
    "# Iterate over groups\n",
    "for g_i, g in enumerate(gs):\n",
    "    std_g = std_gs[g_i]\n",
    "\n",
    "    # Iterate over time periods\n",
    "    for i, t in enumerate(ts):\n",
    "        std = std_g[i]\n",
    "\n",
    "        # Calculate summary statistics\n",
    "        std_stats = tools.estimation_summary(std, summary_stats, rounding=10)\n",
    "\n",
    "        # Create a dataframe\n",
    "        summary_t = pd.DataFrame([std_stats],\n",
    "                                 columns=['Mean'],\n",
    "                                 index=pd.MultiIndex.from_tuples([(g, t, 'Standard Deviation')],\n",
    "                                                                 names=['g', 't', 'Statistics']))\n",
    "\n",
    "        summaries.append(summary_t)"
   ]
  },
  {
   "cell_type": "code",
   "execution_count": 185,
   "id": "fdd4d7a5-3ebc-48f1-8f92-3759fda70c10",
   "metadata": {},
   "outputs": [],
   "source": [
    "summaries_sigma_std = pd.concat(summaries).reset_index().pivot(index=['t', 'Statistics'], columns='g', values='Mean')"
   ]
  },
  {
   "cell_type": "code",
   "execution_count": 186,
   "id": "02d423b2-c83b-4681-af38-fa17f5be68a2",
   "metadata": {},
   "outputs": [
    {
     "data": {
      "text/plain": [
       "MultiIndex([( 1e-07, 'Standard Deviation'),\n",
       "            ( 1e-06, 'Standard Deviation'),\n",
       "            ( 1e-05, 'Standard Deviation'),\n",
       "            (0.0001, 'Standard Deviation'),\n",
       "            ( 0.001, 'Standard Deviation'),\n",
       "            (  0.01, 'Standard Deviation'),\n",
       "            (   0.1, 'Standard Deviation'),\n",
       "            (   1.0, 'Standard Deviation'),\n",
       "            (  10.0, 'Standard Deviation')],\n",
       "           names=['t', 'Statistics'])"
      ]
     },
     "execution_count": 186,
     "metadata": {},
     "output_type": "execute_result"
    }
   ],
   "source": [
    "summaries_sigma_std.index"
   ]
  },
  {
   "cell_type": "code",
   "execution_count": 187,
   "id": "a7470ad3-e12d-4751-80c5-3e453f0f8280",
   "metadata": {},
   "outputs": [
    {
     "data": {
      "text/html": [
       "<div>\n",
       "<style scoped>\n",
       "    .dataframe tbody tr th:only-of-type {\n",
       "        vertical-align: middle;\n",
       "    }\n",
       "\n",
       "    .dataframe tbody tr th {\n",
       "        vertical-align: top;\n",
       "    }\n",
       "\n",
       "    .dataframe thead th {\n",
       "        text-align: right;\n",
       "    }\n",
       "</style>\n",
       "<table border=\"1\" class=\"dataframe\">\n",
       "  <thead>\n",
       "    <tr style=\"text-align: right;\">\n",
       "      <th></th>\n",
       "      <th>g</th>\n",
       "      <th>0.5</th>\n",
       "      <th>1.0</th>\n",
       "      <th>2.0</th>\n",
       "      <th>4.0</th>\n",
       "    </tr>\n",
       "    <tr>\n",
       "      <th>t</th>\n",
       "      <th>Statistics</th>\n",
       "      <th></th>\n",
       "      <th></th>\n",
       "      <th></th>\n",
       "      <th></th>\n",
       "    </tr>\n",
       "  </thead>\n",
       "  <tbody>\n",
       "    <tr>\n",
       "      <th>1.000000e-07</th>\n",
       "      <th>Standard Deviation</th>\n",
       "      <td>0.004264</td>\n",
       "      <td>0.008527</td>\n",
       "      <td>0.017055</td>\n",
       "      <td>0.034110</td>\n",
       "    </tr>\n",
       "    <tr>\n",
       "      <th>1.000000e-06</th>\n",
       "      <th>Standard Deviation</th>\n",
       "      <td>0.004264</td>\n",
       "      <td>0.008528</td>\n",
       "      <td>0.017056</td>\n",
       "      <td>0.034112</td>\n",
       "    </tr>\n",
       "    <tr>\n",
       "      <th>1.000000e-05</th>\n",
       "      <th>Standard Deviation</th>\n",
       "      <td>0.004266</td>\n",
       "      <td>0.008533</td>\n",
       "      <td>0.017066</td>\n",
       "      <td>0.034132</td>\n",
       "    </tr>\n",
       "    <tr>\n",
       "      <th>1.000000e-04</th>\n",
       "      <th>Standard Deviation</th>\n",
       "      <td>0.004287</td>\n",
       "      <td>0.008574</td>\n",
       "      <td>0.017148</td>\n",
       "      <td>0.034296</td>\n",
       "    </tr>\n",
       "    <tr>\n",
       "      <th>1.000000e-03</th>\n",
       "      <th>Standard Deviation</th>\n",
       "      <td>0.004463</td>\n",
       "      <td>0.008926</td>\n",
       "      <td>0.017852</td>\n",
       "      <td>0.035704</td>\n",
       "    </tr>\n",
       "    <tr>\n",
       "      <th>1.000000e-02</th>\n",
       "      <th>Standard Deviation</th>\n",
       "      <td>0.006189</td>\n",
       "      <td>0.012378</td>\n",
       "      <td>0.024756</td>\n",
       "      <td>0.049512</td>\n",
       "    </tr>\n",
       "    <tr>\n",
       "      <th>1.000000e-01</th>\n",
       "      <th>Standard Deviation</th>\n",
       "      <td>0.003421</td>\n",
       "      <td>0.006842</td>\n",
       "      <td>0.013684</td>\n",
       "      <td>0.027367</td>\n",
       "    </tr>\n",
       "    <tr>\n",
       "      <th>1.000000e+00</th>\n",
       "      <th>Standard Deviation</th>\n",
       "      <td>0.013609</td>\n",
       "      <td>0.027217</td>\n",
       "      <td>0.054434</td>\n",
       "      <td>0.108869</td>\n",
       "    </tr>\n",
       "    <tr>\n",
       "      <th>1.000000e+01</th>\n",
       "      <th>Standard Deviation</th>\n",
       "      <td>16.078605</td>\n",
       "      <td>32.157210</td>\n",
       "      <td>64.314420</td>\n",
       "      <td>128.628840</td>\n",
       "    </tr>\n",
       "  </tbody>\n",
       "</table>\n",
       "</div>"
      ],
      "text/plain": [
       "g                                      0.5        1.0        2.0         4.0\n",
       "t            Statistics                                                     \n",
       "1.000000e-07 Standard Deviation   0.004264   0.008527   0.017055    0.034110\n",
       "1.000000e-06 Standard Deviation   0.004264   0.008528   0.017056    0.034112\n",
       "1.000000e-05 Standard Deviation   0.004266   0.008533   0.017066    0.034132\n",
       "1.000000e-04 Standard Deviation   0.004287   0.008574   0.017148    0.034296\n",
       "1.000000e-03 Standard Deviation   0.004463   0.008926   0.017852    0.035704\n",
       "1.000000e-02 Standard Deviation   0.006189   0.012378   0.024756    0.049512\n",
       "1.000000e-01 Standard Deviation   0.003421   0.006842   0.013684    0.027367\n",
       "1.000000e+00 Standard Deviation   0.013609   0.027217   0.054434    0.108869\n",
       "1.000000e+01 Standard Deviation  16.078605  32.157210  64.314420  128.628840"
      ]
     },
     "execution_count": 187,
     "metadata": {},
     "output_type": "execute_result"
    }
   ],
   "source": [
    "summaries_sigma_std"
   ]
  },
  {
   "cell_type": "code",
   "execution_count": 188,
   "id": "5a0224c9-1b96-4bd3-a450-5b83fd181325",
   "metadata": {},
   "outputs": [
    {
     "name": "stdout",
     "output_type": "stream",
     "text": [
      "\\begin{table}[H]\n",
      "\\centering\n",
      "\\caption{Estimated instantaneous standard deviation of the first-hitting times in seconds for Apple in 2017 and several $t$}\n",
      "\\label{table:est_spt_std}\n",
      "\\begin{tabular}{llrrrr}\n",
      "\\toprule\n",
      "             & g &   0.5 &   1.0 &   2.0 &    4.0 \\\\\n",
      "t & Statistics &       &       &       &        \\\\\n",
      "\\midrule\n",
      "1.000000e-07 & Standard Deviation &  0.00 &  0.01 &  0.02 &   0.03 \\\\\n",
      "1.000000e-06 & Standard Deviation &  0.00 &  0.01 &  0.02 &   0.03 \\\\\n",
      "1.000000e-05 & Standard Deviation &  0.00 &  0.01 &  0.02 &   0.03 \\\\\n",
      "1.000000e-04 & Standard Deviation &  0.00 &  0.01 &  0.02 &   0.03 \\\\\n",
      "1.000000e-03 & Standard Deviation &  0.00 &  0.01 &  0.02 &   0.04 \\\\\n",
      "1.000000e-02 & Standard Deviation &  0.01 &  0.01 &  0.02 &   0.05 \\\\\n",
      "1.000000e-01 & Standard Deviation &  0.00 &  0.01 &  0.01 &   0.03 \\\\\n",
      "1.000000e+00 & Standard Deviation &  0.01 &  0.03 &  0.05 &   0.11 \\\\\n",
      "1.000000e+01 & Standard Deviation & 16.08 & 32.16 & 64.31 & 128.63 \\\\\n",
      "\\bottomrule\n",
      "\\end{tabular}\n",
      "\\end{table}\n",
      "\n"
     ]
    },
    {
     "name": "stderr",
     "output_type": "stream",
     "text": [
      "<ipython-input-188-f62c4d675a07>:1: FutureWarning: In future versions `DataFrame.to_latex` is expected to utilise the base implementation of `Styler.to_latex` for formatting and rendering. The arguments signature may therefore change. It is recommended instead to use `DataFrame.style.to_latex` which also contains additional functionality.\n",
      "  print(summaries_sigma_std.sort_index(level = 1, sort_remaining = 0).to_latex( caption = 'Estimated instantaneous standard deviation of the first-hitting times in seconds for Apple in 2017 and several $t$',\n"
     ]
    }
   ],
   "source": [
    "print(summaries_sigma_std.sort_index(level = 1, sort_remaining = 0).to_latex( caption = 'Estimated instantaneous standard deviation of the first-hitting times in seconds for Apple in 2017 and several $t$',\n",
    "                        float_format=\"%.2f\",\n",
    "                        formatters = {\n",
    "                                      \n",
    "                                      't': \"{:.2E}\".format,\n",
    "                                      '0.5': \"{:.2E}\".format,\n",
    "                                      '1.0': \"{:.2E}\".format,\n",
    "                                      '2.0': \"{:.2E}\".format,\n",
    "                                      '4.0': \"{:.2E}\".format,\n",
    "                                      '1.0': \"{:.2E}\".format,\n",
    "                                      },\n",
    "                        position = 'H',\n",
    "                        #longtable = True,\n",
    "                        escape=False,\n",
    "                        label = 'table:est_spt_std'))"
   ]
  },
  {
   "cell_type": "code",
   "execution_count": null,
   "id": "7fc0076c-5997-4981-bd6f-1e69d582f764",
   "metadata": {},
   "outputs": [],
   "source": []
  },
  {
   "cell_type": "code",
   "execution_count": null,
   "id": "6422b190-6f6e-4772-b446-06e3278d7f48",
   "metadata": {},
   "outputs": [],
   "source": []
  },
  {
   "cell_type": "code",
   "execution_count": null,
   "id": "f89bb566-38f2-4304-b195-0ecf1ae029a8",
   "metadata": {},
   "outputs": [],
   "source": []
  },
  {
   "cell_type": "code",
   "execution_count": null,
   "id": "11323d81-e3be-4e50-9136-e750674d12ee",
   "metadata": {},
   "outputs": [],
   "source": [
    "#### todos\n",
    "# check delta, based on new a_n\n",
    "# find which g to use, based on some algorithm\n",
    "# - focus on Levy\n",
    "# - fitted parameter for simulations in Levy\n",
    "# - results in the middle, like around 1 etc, not too close to zero\n",
    "\n",
    "# - (normaliize the plots by volatility), devide by the volatility\n",
    "# it does not change with g too much, when normalized\n",
    "# smart (idea), rigorous, in line with literature!\n",
    "\n",
    "# time-varying alpha,\n",
    "# try time-varying alpha\n",
    "# and then different gs"
   ]
  },
  {
   "cell_type": "code",
   "execution_count": null,
   "id": "f391ef24-317d-4e4d-ad8b-4e2d32620de4",
   "metadata": {},
   "outputs": [],
   "source": [
    "\n",
    "## fit the parameter model to the data, and then we use this,\n",
    "## and then choose g = sqrt(c), then choose different g,\n",
    "## we will see but we are not sure\n",
    "##\n"
   ]
  }
 ],
 "metadata": {
  "kernelspec": {
   "display_name": "Python 3",
   "language": "python",
   "name": "python3"
  },
  "language_info": {
   "codemirror_mode": {
    "name": "ipython",
    "version": 3
   },
   "file_extension": ".py",
   "mimetype": "text/x-python",
   "name": "python",
   "nbconvert_exporter": "python",
   "pygments_lexer": "ipython3",
   "version": "3.8.8"
  }
 },
 "nbformat": 4,
 "nbformat_minor": 5
}
