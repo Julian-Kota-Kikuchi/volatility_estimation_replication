{
 "cells": [
  {
   "cell_type": "markdown",
   "id": "3a0f3f4c-7844-48dd-9d69-a4f946172776",
   "metadata": {},
   "source": [
    "## Load Libraries"
   ]
  },
  {
   "cell_type": "code",
   "execution_count": 1,
   "id": "b88d4b1a-1a48-496c-9841-e83b305e3ffa",
   "metadata": {},
   "outputs": [],
   "source": [
    "import numpy as np\n",
    "import pandas as pd\n",
    "\n",
    "import matplotlib.pyplot as plt\n",
    "import seaborn as sns\n",
    "\n",
    "# distributions\n",
    "import scipy.integrate as integrate\n",
    "from scipy.integrate import quad, quad_vec\n",
    "from scipy.stats import invgamma\n",
    "from scipy.stats import levy\n",
    "from scipy.special import gamma, erfinv\n",
    "\n",
    "import time\n",
    "from datetime import datetime, timedelta\n",
    "\n",
    "import sys\n",
    "import importlib # ref: https://askubuntu.com/questions/144698/find-a-file-by-name-using-command-line\n",
    "import seaborn as sns\n",
    "\n",
    "import os"
   ]
  },
  {
   "cell_type": "code",
   "execution_count": 2,
   "id": "0eca3397-7a5e-476e-b1ef-593a8bb3158d",
   "metadata": {},
   "outputs": [],
   "source": [
    "sys.path.append('../tools')\n",
    "import tools"
   ]
  },
  {
   "cell_type": "code",
   "execution_count": 3,
   "id": "93fbfeaf-e571-4b0d-ab3e-11953c3af734",
   "metadata": {},
   "outputs": [
    {
     "data": {
      "text/plain": [
       "<module 'tools' from '../tools/tools.py'>"
      ]
     },
     "execution_count": 3,
     "metadata": {},
     "output_type": "execute_result"
    }
   ],
   "source": [
    "importlib.reload(tools)"
   ]
  },
  {
   "cell_type": "markdown",
   "id": "8e59f8b9-d27b-4916-8466-e7ff0d0568f8",
   "metadata": {},
   "source": [
    "## Download Data"
   ]
  },
  {
   "cell_type": "code",
   "execution_count": 4,
   "id": "0b35ec40-fc75-42b5-b135-1bb428581c7a",
   "metadata": {},
   "outputs": [],
   "source": [
    "# download and store data in a file\n",
    "dfs = []\n",
    "for file in os.listdir('data/2017'):\n",
    "    if '.csv' in file:\n",
    "        df = pd.read_csv(f'data/2017/{file}',  usecols = ['date', 'ts'])\n",
    "        dfs.append(df)\n"
   ]
  },
  {
   "cell_type": "code",
   "execution_count": 5,
   "id": "7d02f243-db04-4d3a-a23b-46102fca6391",
   "metadata": {},
   "outputs": [],
   "source": [
    "# concatenate the dataframe into one dataframe\n",
    "df = pd.concat(dfs)\n"
   ]
  },
  {
   "cell_type": "code",
   "execution_count": 6,
   "id": "dad00790-69e1-4804-8926-921fb6e3bbbe",
   "metadata": {},
   "outputs": [],
   "source": [
    "#df_sample = pd.read_csv('data/2017/taqAAPL2017-12-29.csv', usecols = ['date', 'ts'])"
   ]
  },
  {
   "cell_type": "markdown",
   "id": "03c0928f-a99f-44db-8185-9d38b9bae43c",
   "metadata": {},
   "source": [
    "## Cleaning Data"
   ]
  },
  {
   "cell_type": "markdown",
   "id": "c535e38a-e7e1-4cae-924c-a0beb7715409",
   "metadata": {},
   "source": [
    "### Removing Duplicate Times"
   ]
  },
  {
   "cell_type": "code",
   "execution_count": 7,
   "id": "6ccaf148-2de4-4b1c-9b9a-fff1291644da",
   "metadata": {},
   "outputs": [],
   "source": [
    "# create date time column\n",
    "df['date_ts'] = pd.to_datetime(df['date'] + ' '+ df['ts'], format = '%Y-%M-%D %H:%M:%S.%f', infer_datetime_format = True)\n",
    "\n",
    "# sort the data according to time\n",
    "df = df.sort_values(by = 'date_ts')"
   ]
  },
  {
   "cell_type": "code",
   "execution_count": 8,
   "id": "03e1c43c-589b-4a17-ad18-a850dd1fd693",
   "metadata": {},
   "outputs": [],
   "source": [
    "df = df.drop_duplicates(subset = 'date_ts', keep = 'first')\n"
   ]
  },
  {
   "cell_type": "markdown",
   "id": "22d933f0-2d20-49c2-9929-7af15c64bbff",
   "metadata": {},
   "source": [
    "### Taking differences and removing unnecessary rows"
   ]
  },
  {
   "cell_type": "code",
   "execution_count": 9,
   "id": "b9f90175-f17e-4b3b-8708-7c6c19fd396e",
   "metadata": {},
   "outputs": [],
   "source": [
    "# calculate the difference in time\n",
    "df['delta_ts'] = df['date_ts'].diff().dt.total_seconds()"
   ]
  },
  {
   "cell_type": "code",
   "execution_count": 10,
   "id": "b789f179-317d-456a-8ccb-0a7cf4ba2bda",
   "metadata": {},
   "outputs": [
    {
     "name": "stdout",
     "output_type": "stream",
     "text": [
      "250\n",
      "250\n"
     ]
    }
   ],
   "source": [
    "# remove the first observation of each day\n",
    "# we can see when the time difference between trading is big, they are on different dates\n",
    "print(sum(df['delta_ts']>1000))\n",
    "print(len(df[df['delta_ts']>1000].date.unique()))"
   ]
  },
  {
   "cell_type": "code",
   "execution_count": 11,
   "id": "b43144bf-869d-4439-9061-64b1e1703840",
   "metadata": {},
   "outputs": [],
   "source": [
    "# drop unnecessayr values\n",
    "df_cleaned = df[~(df['delta_ts']>1000)].copy()\n",
    "\n",
    "# reset index\n",
    "df_cleaned = df_cleaned.reset_index(drop=True)"
   ]
  },
  {
   "cell_type": "code",
   "execution_count": 12,
   "id": "8a9b8562-542f-4704-bb38-d9c39bf05d51",
   "metadata": {},
   "outputs": [
    {
     "data": {
      "text/plain": [
       "250"
      ]
     },
     "execution_count": 12,
     "metadata": {},
     "output_type": "execute_result"
    }
   ],
   "source": [
    "len(df) - len(df_cleaned)"
   ]
  },
  {
   "cell_type": "code",
   "execution_count": 13,
   "id": "fb3d00c1-2cce-4f94-98e7-5df19dfb074c",
   "metadata": {},
   "outputs": [
    {
     "data": {
      "text/html": [
       "<div>\n",
       "<style scoped>\n",
       "    .dataframe tbody tr th:only-of-type {\n",
       "        vertical-align: middle;\n",
       "    }\n",
       "\n",
       "    .dataframe tbody tr th {\n",
       "        vertical-align: top;\n",
       "    }\n",
       "\n",
       "    .dataframe thead th {\n",
       "        text-align: right;\n",
       "    }\n",
       "</style>\n",
       "<table border=\"1\" class=\"dataframe\">\n",
       "  <thead>\n",
       "    <tr style=\"text-align: right;\">\n",
       "      <th></th>\n",
       "      <th>date</th>\n",
       "      <th>ts</th>\n",
       "      <th>date_ts</th>\n",
       "      <th>delta_ts</th>\n",
       "    </tr>\n",
       "  </thead>\n",
       "  <tbody>\n",
       "    <tr>\n",
       "      <th>0</th>\n",
       "      <td>2017-01-03</td>\n",
       "      <td>09:30:00.001271</td>\n",
       "      <td>2017-01-03 09:30:00.001271</td>\n",
       "      <td>NaN</td>\n",
       "    </tr>\n",
       "    <tr>\n",
       "      <th>1</th>\n",
       "      <td>2017-01-03</td>\n",
       "      <td>09:30:00.046605</td>\n",
       "      <td>2017-01-03 09:30:00.046605</td>\n",
       "      <td>0.045334</td>\n",
       "    </tr>\n",
       "    <tr>\n",
       "      <th>2</th>\n",
       "      <td>2017-01-03</td>\n",
       "      <td>09:30:00.090184</td>\n",
       "      <td>2017-01-03 09:30:00.090184</td>\n",
       "      <td>0.043579</td>\n",
       "    </tr>\n",
       "    <tr>\n",
       "      <th>3</th>\n",
       "      <td>2017-01-03</td>\n",
       "      <td>09:30:00.090207</td>\n",
       "      <td>2017-01-03 09:30:00.090207</td>\n",
       "      <td>0.000023</td>\n",
       "    </tr>\n",
       "    <tr>\n",
       "      <th>4</th>\n",
       "      <td>2017-01-03</td>\n",
       "      <td>09:30:00.090214</td>\n",
       "      <td>2017-01-03 09:30:00.090214</td>\n",
       "      <td>0.000007</td>\n",
       "    </tr>\n",
       "  </tbody>\n",
       "</table>\n",
       "</div>"
      ],
      "text/plain": [
       "         date               ts                    date_ts  delta_ts\n",
       "0  2017-01-03  09:30:00.001271 2017-01-03 09:30:00.001271       NaN\n",
       "1  2017-01-03  09:30:00.046605 2017-01-03 09:30:00.046605  0.045334\n",
       "2  2017-01-03  09:30:00.090184 2017-01-03 09:30:00.090184  0.043579\n",
       "3  2017-01-03  09:30:00.090207 2017-01-03 09:30:00.090207  0.000023\n",
       "4  2017-01-03  09:30:00.090214 2017-01-03 09:30:00.090214  0.000007"
      ]
     },
     "execution_count": 13,
     "metadata": {},
     "output_type": "execute_result"
    }
   ],
   "source": [
    "# remove first observations where delta_ts is nan\n",
    "df_cleaned.head()"
   ]
  },
  {
   "cell_type": "code",
   "execution_count": 14,
   "id": "3aaaeb35-3225-4789-96d4-4a84c6bcf1f3",
   "metadata": {},
   "outputs": [],
   "source": [
    "# check if trade on first trades on each day is removed\n",
    "unique_dates = df_cleaned['date'].unique()"
   ]
  },
  {
   "cell_type": "code",
   "execution_count": 73,
   "id": "9c28aa6e-8b5c-4cb1-b02c-a5804e181c52",
   "metadata": {},
   "outputs": [
    {
     "name": "stdout",
     "output_type": "stream",
     "text": [
      "              date               ts                    date_ts  delta_ts\n",
      "138456  2017-01-03  15:59:59.998930 2017-01-03 15:59:59.998930  0.000022\n",
      "1       2017-01-04  09:30:00.007337 2017-01-04 09:30:00.007337  0.000004\n",
      "              date               ts                    date_ts  delta_ts\n",
      "113631  2017-01-03  15:14:59.771501 2017-01-03 15:14:59.771501  0.000061\n",
      "113632  2017-01-03  15:15:00.033733 2017-01-03 15:15:00.033733  0.262232\n",
      "              date               ts                    date_ts  delta_ts\n",
      "120469  2017-01-03  15:37:52.862482 2017-01-03 15:37:52.862482  0.025198\n",
      "120470  2017-01-03  15:37:53.683727 2017-01-03 15:37:53.683727  0.821245\n",
      "             date               ts                    date_ts  delta_ts\n",
      "15467  2017-01-04  09:51:05.558356 2017-01-04 09:51:05.558356  0.000009\n",
      "15468  2017-01-04  09:51:05.558744 2017-01-04 09:51:05.558744  0.000388\n",
      "             date               ts                    date_ts  delta_ts\n",
      "25077  2017-01-04  10:16:19.304382 2017-01-04 10:16:19.304382  0.000007\n",
      "25078  2017-01-04  10:16:19.306507 2017-01-04 10:16:19.306507  0.002125\n",
      "              date               ts                    date_ts  delta_ts\n",
      "130847  2017-01-03  15:54:41.111519 2017-01-03 15:54:41.111519  0.000002\n",
      "130848  2017-01-03  15:54:41.131052 2017-01-03 15:54:41.131052  0.019533\n",
      "              date               ts                    date_ts  delta_ts\n",
      "126747  2017-01-03  15:50:00.092375 2017-01-03 15:50:00.092375  0.001520\n",
      "126748  2017-01-03  15:50:00.092410 2017-01-03 15:50:00.092410  0.000035\n",
      "            date               ts                    date_ts  delta_ts\n",
      "3464  2017-01-04  09:32:45.693249 2017-01-04 09:32:45.693249  0.000193\n",
      "3465  2017-01-04  09:32:45.695684 2017-01-04 09:32:45.695684  0.002435\n",
      "              date               ts                    date_ts  delta_ts\n",
      "112658  2017-01-03  15:10:25.632258 2017-01-03 15:10:25.632258  3.796969\n",
      "112659  2017-01-03  15:10:26.071469 2017-01-03 15:10:26.071469  0.439211\n",
      "             date               ts                    date_ts  delta_ts\n",
      "26285  2017-01-04  10:20:18.628382 2017-01-04 10:20:18.628382  0.000001\n",
      "26286  2017-01-04  10:20:18.628414 2017-01-04 10:20:18.628414  0.000032\n"
     ]
    }
   ],
   "source": [
    "for date in unique_dates[0:10]:\n",
    "    \n",
    "    max_ts = max(df_cleaned[df_cleaned['date']== date]['ts'])\n",
    "    \n",
    "    last_trade_index = df_cleaned.loc[(df_cleaned['date']==date)& (df_cleaned['ts'] == max_ts), ].index\n",
    "    \n",
    "    print(df_cleaned.iloc[last_trade_index[0]: last_trade_index[0]+2, ])\n",
    "    \n",
    "    \n",
    "    "
   ]
  },
  {
   "cell_type": "code",
   "execution_count": null,
   "id": "85eb30c7-555e-4c2d-8996-9c5105f3124f",
   "metadata": {},
   "outputs": [],
   "source": []
  },
  {
   "cell_type": "markdown",
   "id": "2760b284-1c42-4b64-b87c-6c7d20629708",
   "metadata": {},
   "source": [
    "### Assign bins"
   ]
  },
  {
   "cell_type": "code",
   "execution_count": 15,
   "id": "efa9a8a5-2bee-48f2-a439-b60a1394db7a",
   "metadata": {},
   "outputs": [],
   "source": [
    "# assign bins\n",
    "# create bins of 30 minutes\n",
    "market_open = datetime.strptime('09:30', '%H:%M')\n",
    "\n",
    "bins = [market_open.strftime(\"%H:%M\")]\n",
    "\n",
    "for x in range(13):\n",
    "    market_open = market_open + timedelta(minutes = 30)\n",
    "    bins.append(market_open.strftime(\"%H:%M\"))\n",
    "\n"
   ]
  },
  {
   "cell_type": "code",
   "execution_count": 16,
   "id": "150be9dd-854d-4b2c-bcf7-41805bc18e28",
   "metadata": {},
   "outputs": [],
   "source": [
    "# define a function to assing bin number to data\n",
    "def assign_bin(time_string, bins):\n",
    "    \n",
    "    bin_numb = 0\n",
    "    prev_bin = '9:30'\n",
    "    \n",
    "    for bin_i in bins:\n",
    "        if (time_string >= prev_bin) &  (time_string < bin_i):  \n",
    "            return bin_numb\n",
    "        \n",
    "        bin_numb += 1\n",
    "        prev_bin = bin_i"
   ]
  },
  {
   "cell_type": "code",
   "execution_count": 17,
   "id": "c64de3af-6f84-4b5c-9553-7085b7d7f910",
   "metadata": {},
   "outputs": [],
   "source": [
    "# assing bins\n",
    "df_cleaned.loc[:, 'bin'] = df_cleaned['ts'].apply(lambda x: assign_bin(x, bins))"
   ]
  },
  {
   "cell_type": "code",
   "execution_count": 18,
   "id": "733d06b7-027c-4ace-b054-cbdc87a808e9",
   "metadata": {},
   "outputs": [
    {
     "data": {
      "text/plain": [
       "708.5275730000001"
      ]
     },
     "execution_count": 18,
     "metadata": {},
     "output_type": "execute_result"
    }
   ],
   "source": [
    "# check maximum value for the duration\n",
    "np.nanmax(df_cleaned['delta_ts'])"
   ]
  },
  {
   "cell_type": "code",
   "execution_count": 19,
   "id": "5f9c87fd-671c-4d36-a209-3e80c5de349f",
   "metadata": {},
   "outputs": [
    {
     "data": {
      "text/html": [
       "<div>\n",
       "<style scoped>\n",
       "    .dataframe tbody tr th:only-of-type {\n",
       "        vertical-align: middle;\n",
       "    }\n",
       "\n",
       "    .dataframe tbody tr th {\n",
       "        vertical-align: top;\n",
       "    }\n",
       "\n",
       "    .dataframe thead th {\n",
       "        text-align: right;\n",
       "    }\n",
       "</style>\n",
       "<table border=\"1\" class=\"dataframe\">\n",
       "  <thead>\n",
       "    <tr style=\"text-align: right;\">\n",
       "      <th></th>\n",
       "      <th>date</th>\n",
       "      <th>ts</th>\n",
       "      <th>date_ts</th>\n",
       "      <th>delta_ts</th>\n",
       "      <th>bin</th>\n",
       "    </tr>\n",
       "  </thead>\n",
       "  <tbody>\n",
       "    <tr>\n",
       "      <th>17633651</th>\n",
       "      <td>2017-07-03</td>\n",
       "      <td>15:17:39.804169</td>\n",
       "      <td>2017-07-03 15:17:39.804169</td>\n",
       "      <td>708.527573</td>\n",
       "      <td>12</td>\n",
       "    </tr>\n",
       "  </tbody>\n",
       "</table>\n",
       "</div>"
      ],
      "text/plain": [
       "                date               ts                    date_ts    delta_ts  \\\n",
       "17633651  2017-07-03  15:17:39.804169 2017-07-03 15:17:39.804169  708.527573   \n",
       "\n",
       "          bin  \n",
       "17633651   12  "
      ]
     },
     "execution_count": 19,
     "metadata": {},
     "output_type": "execute_result"
    }
   ],
   "source": [
    "df_cleaned[df_cleaned['delta_ts']==708.5275730000001]"
   ]
  },
  {
   "cell_type": "code",
   "execution_count": 20,
   "id": "7c2a86f9-18a6-4e4c-9154-aff32163f415",
   "metadata": {},
   "outputs": [
    {
     "data": {
      "text/html": [
       "<div>\n",
       "<style scoped>\n",
       "    .dataframe tbody tr th:only-of-type {\n",
       "        vertical-align: middle;\n",
       "    }\n",
       "\n",
       "    .dataframe tbody tr th {\n",
       "        vertical-align: top;\n",
       "    }\n",
       "\n",
       "    .dataframe thead th {\n",
       "        text-align: right;\n",
       "    }\n",
       "</style>\n",
       "<table border=\"1\" class=\"dataframe\">\n",
       "  <thead>\n",
       "    <tr style=\"text-align: right;\">\n",
       "      <th></th>\n",
       "      <th>date</th>\n",
       "      <th>ts</th>\n",
       "      <th>date_ts</th>\n",
       "      <th>delta_ts</th>\n",
       "      <th>bin</th>\n",
       "    </tr>\n",
       "  </thead>\n",
       "  <tbody>\n",
       "    <tr>\n",
       "      <th>17633650</th>\n",
       "      <td>2017-07-03</td>\n",
       "      <td>15:05:51.276596</td>\n",
       "      <td>2017-07-03 15:05:51.276596</td>\n",
       "      <td>281.229521</td>\n",
       "      <td>12</td>\n",
       "    </tr>\n",
       "    <tr>\n",
       "      <th>17633651</th>\n",
       "      <td>2017-07-03</td>\n",
       "      <td>15:17:39.804169</td>\n",
       "      <td>2017-07-03 15:17:39.804169</td>\n",
       "      <td>708.527573</td>\n",
       "      <td>12</td>\n",
       "    </tr>\n",
       "  </tbody>\n",
       "</table>\n",
       "</div>"
      ],
      "text/plain": [
       "                date               ts                    date_ts    delta_ts  \\\n",
       "17633650  2017-07-03  15:05:51.276596 2017-07-03 15:05:51.276596  281.229521   \n",
       "17633651  2017-07-03  15:17:39.804169 2017-07-03 15:17:39.804169  708.527573   \n",
       "\n",
       "          bin  \n",
       "17633650   12  \n",
       "17633651   12  "
      ]
     },
     "execution_count": 20,
     "metadata": {},
     "output_type": "execute_result"
    }
   ],
   "source": [
    "df_cleaned.iloc[17633650:17633652, ]"
   ]
  },
  {
   "cell_type": "markdown",
   "id": "fc652743-3ced-4ee3-8b6b-d97d08fcaad2",
   "metadata": {},
   "source": [
    "## Export Cleaned Data"
   ]
  },
  {
   "cell_type": "code",
   "execution_count": 21,
   "id": "5a56cdfa-1bfe-498d-9d9c-f53593f0a0fa",
   "metadata": {},
   "outputs": [],
   "source": [
    "df_cleaned.to_csv(r'data/apple_cleaned.csv', index=False)"
   ]
  },
  {
   "cell_type": "code",
   "execution_count": null,
   "id": "5c9f6a90-0439-4471-bbac-e3fd723615e5",
   "metadata": {},
   "outputs": [],
   "source": []
  }
 ],
 "metadata": {
  "kernelspec": {
   "display_name": "Python 3",
   "language": "python",
   "name": "python3"
  },
  "language_info": {
   "codemirror_mode": {
    "name": "ipython",
    "version": 3
   },
   "file_extension": ".py",
   "mimetype": "text/x-python",
   "name": "python",
   "nbconvert_exporter": "python",
   "pygments_lexer": "ipython3",
   "version": "3.8.8"
  }
 },
 "nbformat": 4,
 "nbformat_minor": 5
}
