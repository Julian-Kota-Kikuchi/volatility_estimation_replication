{
 "cells": [
  {
   "cell_type": "markdown",
   "id": "3a0f3f4c-7844-48dd-9d69-a4f946172776",
   "metadata": {},
   "source": [
    "## Load Libraries"
   ]
  },
  {
   "cell_type": "code",
   "execution_count": 1,
   "id": "b88d4b1a-1a48-496c-9841-e83b305e3ffa",
   "metadata": {},
   "outputs": [],
   "source": [
    "import numpy as np\n",
    "import pandas as pd\n",
    "\n",
    "import matplotlib.pyplot as plt\n",
    "import seaborn as sns\n",
    "\n",
    "# distributions\n",
    "import scipy.integrate as integrate\n",
    "from scipy.integrate import quad, quad_vec\n",
    "from scipy.stats import invgamma\n",
    "from scipy.stats import levy\n",
    "from scipy.special import gamma, erfinv\n",
    "\n",
    "import time\n",
    "from datetime import datetime, timedelta\n",
    "\n",
    "import sys\n",
    "import importlib # ref: https://askubuntu.com/questions/144698/find-a-file-by-name-using-command-line\n",
    "import seaborn as sns\n",
    "\n",
    "import os"
   ]
  },
  {
   "cell_type": "code",
   "execution_count": 2,
   "id": "0eca3397-7a5e-476e-b1ef-593a8bb3158d",
   "metadata": {},
   "outputs": [],
   "source": [
    "sys.path.append('../tools')\n",
    "import tools"
   ]
  },
  {
   "cell_type": "code",
   "execution_count": 3,
   "id": "93fbfeaf-e571-4b0d-ab3e-11953c3af734",
   "metadata": {},
   "outputs": [
    {
     "data": {
      "text/plain": [
       "<module 'tools' from '../tools/tools.py'>"
      ]
     },
     "execution_count": 3,
     "metadata": {},
     "output_type": "execute_result"
    }
   ],
   "source": [
    "importlib.reload(tools)"
   ]
  },
  {
   "cell_type": "markdown",
   "id": "8e59f8b9-d27b-4916-8466-e7ff0d0568f8",
   "metadata": {},
   "source": [
    "## Download Data"
   ]
  },
  {
   "cell_type": "code",
   "execution_count": 4,
   "id": "8ec29c0b-550f-4030-92d5-4d436ae8584b",
   "metadata": {},
   "outputs": [],
   "source": [
    "df = pd.read_csv('data/apple_cleaned.csv')"
   ]
  },
  {
   "cell_type": "code",
   "execution_count": 5,
   "id": "8adbb37e-defc-447c-b58c-f28f3985a4a7",
   "metadata": {},
   "outputs": [
    {
     "data": {
      "text/html": [
       "<div>\n",
       "<style scoped>\n",
       "    .dataframe tbody tr th:only-of-type {\n",
       "        vertical-align: middle;\n",
       "    }\n",
       "\n",
       "    .dataframe tbody tr th {\n",
       "        vertical-align: top;\n",
       "    }\n",
       "\n",
       "    .dataframe thead th {\n",
       "        text-align: right;\n",
       "    }\n",
       "</style>\n",
       "<table border=\"1\" class=\"dataframe\">\n",
       "  <thead>\n",
       "    <tr style=\"text-align: right;\">\n",
       "      <th></th>\n",
       "      <th>date</th>\n",
       "      <th>ts</th>\n",
       "      <th>date_ts</th>\n",
       "      <th>delta_ts</th>\n",
       "      <th>bin</th>\n",
       "    </tr>\n",
       "  </thead>\n",
       "  <tbody>\n",
       "    <tr>\n",
       "      <th>0</th>\n",
       "      <td>2017-01-03</td>\n",
       "      <td>09:30:00.001271</td>\n",
       "      <td>2017-01-03 09:30:00.001271</td>\n",
       "      <td>NaN</td>\n",
       "      <td>1</td>\n",
       "    </tr>\n",
       "    <tr>\n",
       "      <th>1</th>\n",
       "      <td>2017-01-03</td>\n",
       "      <td>09:30:00.046605</td>\n",
       "      <td>2017-01-03 09:30:00.046605</td>\n",
       "      <td>0.045334</td>\n",
       "      <td>1</td>\n",
       "    </tr>\n",
       "    <tr>\n",
       "      <th>2</th>\n",
       "      <td>2017-01-03</td>\n",
       "      <td>09:30:00.090184</td>\n",
       "      <td>2017-01-03 09:30:00.090184</td>\n",
       "      <td>0.043579</td>\n",
       "      <td>1</td>\n",
       "    </tr>\n",
       "    <tr>\n",
       "      <th>3</th>\n",
       "      <td>2017-01-03</td>\n",
       "      <td>09:30:00.090207</td>\n",
       "      <td>2017-01-03 09:30:00.090207</td>\n",
       "      <td>0.000023</td>\n",
       "      <td>1</td>\n",
       "    </tr>\n",
       "    <tr>\n",
       "      <th>4</th>\n",
       "      <td>2017-01-03</td>\n",
       "      <td>09:30:00.090214</td>\n",
       "      <td>2017-01-03 09:30:00.090214</td>\n",
       "      <td>0.000007</td>\n",
       "      <td>1</td>\n",
       "    </tr>\n",
       "  </tbody>\n",
       "</table>\n",
       "</div>"
      ],
      "text/plain": [
       "         date               ts                     date_ts  delta_ts  bin\n",
       "0  2017-01-03  09:30:00.001271  2017-01-03 09:30:00.001271       NaN    1\n",
       "1  2017-01-03  09:30:00.046605  2017-01-03 09:30:00.046605  0.045334    1\n",
       "2  2017-01-03  09:30:00.090184  2017-01-03 09:30:00.090184  0.043579    1\n",
       "3  2017-01-03  09:30:00.090207  2017-01-03 09:30:00.090207  0.000023    1\n",
       "4  2017-01-03  09:30:00.090214  2017-01-03 09:30:00.090214  0.000007    1"
      ]
     },
     "execution_count": 5,
     "metadata": {},
     "output_type": "execute_result"
    }
   ],
   "source": [
    "df.head()"
   ]
  },
  {
   "cell_type": "code",
   "execution_count": 6,
   "id": "9f4ca34f-8a11-4e66-8adf-ea044e11ce2c",
   "metadata": {},
   "outputs": [
    {
     "data": {
      "text/plain": [
       "708.5275730000001"
      ]
     },
     "execution_count": 6,
     "metadata": {},
     "output_type": "execute_result"
    }
   ],
   "source": [
    "np.nanmax(df['delta_ts'])"
   ]
  },
  {
   "cell_type": "markdown",
   "id": "0f81f425-93d4-4a32-9a54-e0f310d73b1d",
   "metadata": {},
   "source": [
    "## Estimate Spot Volatility"
   ]
  },
  {
   "cell_type": "code",
   "execution_count": 33,
   "id": "33c55d17-6652-483c-b687-f7982319abca",
   "metadata": {},
   "outputs": [],
   "source": [
    "# decide whether you use sample or not\n",
    "sample = False\n",
    "\n",
    "if sample:\n",
    "    data = df[df['date']< '2017-01-20']\n",
    "    \n",
    "else:\n",
    "    data = df.copy()"
   ]
  },
  {
   "cell_type": "code",
   "execution_count": 34,
   "id": "e264978f-1deb-4f12-9cbf-cdc18ff1b629",
   "metadata": {},
   "outputs": [],
   "source": [
    "# Plot style\n",
    "widths = [1,1,1,1,2]\n",
    "types = ['solid','dashed','dashdot','dotted', 'dotted']"
   ]
  },
  {
   "cell_type": "code",
   "execution_count": 35,
   "id": "e2d3e31f-1e7e-40b3-94e4-bbcbf36c624b",
   "metadata": {},
   "outputs": [],
   "source": [
    "gs =  [ 0.5, 1, 2, 4]"
   ]
  },
  {
   "cell_type": "markdown",
   "id": "8d5b6ada-cf26-4924-aeaf-d9e1bbbcb636",
   "metadata": {},
   "source": [
    "### By bins"
   ]
  },
  {
   "cell_type": "markdown",
   "id": "7e461c67-5275-4f08-9e1e-00e5f6932177",
   "metadata": {},
   "source": [
    "#### Wide 0"
   ]
  },
  {
   "cell_type": "code",
   "execution_count": 36,
   "id": "3827c550-768a-4bb8-8093-fd489f9529c5",
   "metadata": {},
   "outputs": [],
   "source": [
    "ts = np.linspace(0.00001, 0.1, 6)"
   ]
  },
  {
   "cell_type": "markdown",
   "id": "46e666dd-906e-42c7-bb70-7473e380b349",
   "metadata": {},
   "source": [
    "#### Pdf and Cdf"
   ]
  },
  {
   "cell_type": "code",
   "execution_count": 38,
   "id": "1abfdf0a-0401-486c-bb39-bff0dfac0072",
   "metadata": {},
   "outputs": [
    {
     "name": "stdout",
     "output_type": "stream",
     "text": [
      "Time : 275.41400504112244 for t = 1e-05\n",
      "Time : 65.80079412460327 for t = 0.020008\n",
      "Time : 65.1592161655426 for t = 0.04000600000000001\n",
      "Time : 65.68304896354675 for t = 0.06000400000000001\n",
      "Time : 66.39484071731567 for t = 0.080002\n",
      "Time : 65.99669909477234 for t = 0.1\n"
     ]
    }
   ],
   "source": [
    "##### check the for loop, is it actually doing what it is supposed to d\n",
    "#sigma_hats_ts = []\n",
    "f_hats_ts = []\n",
    "F_hats_ts= []\n",
    "\n",
    "# subset the dataframe\n",
    "t_g_ws = np.array(data['delta_ts'])\n",
    "\n",
    "# for each t\n",
    "for t in ts:\n",
    "    \n",
    "    # estimate f_hat, F_hat\n",
    "    f_hats = []\n",
    "    F_hats = []\n",
    "    sigma_hats = []\n",
    "    \n",
    "    # start_time for current iteration\n",
    "    start_time = time.time()\n",
    "     \n",
    "\n",
    "    # calculate f_hat\n",
    "    f_hat = tools.f_hat_t(t, t_g_ws, n = len(t_g_ws))\n",
    "    f_hats.append(f_hat)\n",
    "\n",
    "    # calculate F_hat\n",
    "    F_hat = tools.F_hat_t(t, t_g_ws, n = len(t_g_ws))\n",
    "    F_hats.append(F_hat)\n",
    "           \n",
    "    \n",
    "    # store the estimates\n",
    "    f_hats_ts.append(f_hats)\n",
    "    F_hats_ts.append(F_hats)\n",
    "\n",
    "    # show the end time\n",
    "    end_time = time.time()   \n",
    "    print(f\"Time : {end_time - start_time} for t = {t}\")\n",
    "    \n",
    "\n"
   ]
  },
  {
   "cell_type": "code",
   "execution_count": null,
   "id": "a1702bc2-b81b-4f17-a7b6-aec428ec6769",
   "metadata": {},
   "outputs": [],
   "source": []
  },
  {
   "cell_type": "markdown",
   "id": "29c3a90b-2169-4001-b6f6-c0ec08a4a675",
   "metadata": {},
   "source": [
    "#### Spot Volatility"
   ]
  },
  {
   "cell_type": "code",
   "execution_count": 1,
   "id": "a1c67e87-c331-4982-9962-2fdf0e42b1a9",
   "metadata": {},
   "outputs": [
    {
     "ename": "NameError",
     "evalue": "name 'gs' is not defined",
     "output_type": "error",
     "traceback": [
      "\u001b[0;31m---------------------------------------------------------------------------\u001b[0m",
      "\u001b[0;31mNameError\u001b[0m                                 Traceback (most recent call last)",
      "\u001b[0;32m<ipython-input-1-f7c2a1603a0a>\u001b[0m in \u001b[0;36m<module>\u001b[0;34m\u001b[0m\n\u001b[1;32m      1\u001b[0m \u001b[0msigma_hats_gs\u001b[0m \u001b[0;34m=\u001b[0m \u001b[0;34m[\u001b[0m\u001b[0;34m]\u001b[0m\u001b[0;34m\u001b[0m\u001b[0;34m\u001b[0m\u001b[0m\n\u001b[1;32m      2\u001b[0m \u001b[0;34m\u001b[0m\u001b[0m\n\u001b[0;32m----> 3\u001b[0;31m \u001b[0;32mfor\u001b[0m \u001b[0mg_i\u001b[0m\u001b[0;34m,\u001b[0m \u001b[0mg\u001b[0m \u001b[0;32min\u001b[0m \u001b[0mzip\u001b[0m\u001b[0;34m(\u001b[0m\u001b[0mrange\u001b[0m\u001b[0;34m(\u001b[0m\u001b[0;36m0\u001b[0m\u001b[0;34m,\u001b[0m \u001b[0mlen\u001b[0m\u001b[0;34m(\u001b[0m\u001b[0mgs\u001b[0m\u001b[0;34m)\u001b[0m\u001b[0;34m)\u001b[0m\u001b[0;34m,\u001b[0m \u001b[0mgs\u001b[0m\u001b[0;34m)\u001b[0m\u001b[0;34m:\u001b[0m\u001b[0;34m\u001b[0m\u001b[0;34m\u001b[0m\u001b[0m\n\u001b[0m\u001b[1;32m      4\u001b[0m \u001b[0;34m\u001b[0m\u001b[0m\n\u001b[1;32m      5\u001b[0m     \u001b[0msigma_hats_ts\u001b[0m \u001b[0;34m=\u001b[0m \u001b[0;34m[\u001b[0m\u001b[0;34m]\u001b[0m\u001b[0;34m\u001b[0m\u001b[0;34m\u001b[0m\u001b[0m\n",
      "\u001b[0;31mNameError\u001b[0m: name 'gs' is not defined"
     ]
    }
   ],
   "source": [
    "sigma_hats_gs = []\n",
    "\n",
    "for g_i, g in zip(range(0, len(gs)), gs):\n",
    "    \n",
    "    sigma_hats_ts = []\n",
    "    # for each t\n",
    "    for i, t in zip(range(0, len(ts)),ts):\n",
    "    \n",
    "        # store the estimates\n",
    "        f_hats = f_hats_ts[i]\n",
    "        F_hats = F_hats_ts[i]\n",
    "        \n",
    "        sigma_hats_t = tools.sigma_hat_t(f_hats, F_hats, g)\n",
    "        sigma_hats_ts.append(sigma_hats_t)\n",
    "        \n",
    "    sigma_hats_gs.append(sigma_hats_ts)\n",
    "    \n",
    "    "
   ]
  },
  {
   "cell_type": "markdown",
   "id": "6b116bd7-6531-438f-9540-e583332e0359",
   "metadata": {},
   "source": [
    "#### Summary Stats"
   ]
  },
  {
   "cell_type": "code",
   "execution_count": 66,
   "id": "f78cf224-0eef-4dc2-9367-9923121767f7",
   "metadata": {},
   "outputs": [],
   "source": [
    "summary_stats = [np.nanmean, np.nanmedian, np.nanstd, 0.05, 0.95]\n",
    "\n",
    "# list to store summaries\n",
    "summaries = []\n",
    "\n",
    "# for each t\n",
    "for i, t in zip(range(0, len(ts)),ts):\n",
    "    \n",
    "    # store the estimates\n",
    "    f_hats = f_hats_ts[i]\n",
    "    F_hats = F_hats_ts[i]\n",
    "    sigma_hats = sigma_hats_ts[i]\n",
    "    \n",
    "    # calculate summary stats\n",
    "    f_stats = tools.estimation_summary(f_hats, summary_stats, rounding = 10)\n",
    "    F_stats = tools.estimation_summary(F_hats, summary_stats, rounding = 10)\n",
    "    # create a dataframe\n",
    "    summary_t = pd.DataFrame([f_stats, F_stats],columns =  ['Mean', 'Median','Std', '5.0%', '95%'],\n",
    "                            index = [np.tile(t, 2) , ['$\\widehat{f}$', '$\\widehat{F}$']])\n",
    "    \n",
    "    summary_t.index.set_names(['t', 'Statistics'], inplace = True)\n",
    "    \n",
    "    # store the summary\n",
    "    summaries.append(summary_t)\n",
    "\n",
    "    \n"
   ]
  },
  {
   "cell_type": "code",
   "execution_count": 67,
   "id": "ec0048f5-4565-4e45-8d0e-53e339440816",
   "metadata": {},
   "outputs": [
    {
     "data": {
      "text/html": [
       "<div>\n",
       "<style scoped>\n",
       "    .dataframe tbody tr th:only-of-type {\n",
       "        vertical-align: middle;\n",
       "    }\n",
       "\n",
       "    .dataframe tbody tr th {\n",
       "        vertical-align: top;\n",
       "    }\n",
       "\n",
       "    .dataframe thead th {\n",
       "        text-align: right;\n",
       "    }\n",
       "</style>\n",
       "<table border=\"1\" class=\"dataframe\">\n",
       "  <thead>\n",
       "    <tr style=\"text-align: right;\">\n",
       "      <th></th>\n",
       "      <th></th>\n",
       "      <th>Mean</th>\n",
       "      <th>Median</th>\n",
       "      <th>Std</th>\n",
       "      <th>5.0%</th>\n",
       "      <th>95%</th>\n",
       "    </tr>\n",
       "    <tr>\n",
       "      <th>t</th>\n",
       "      <th>Statistics</th>\n",
       "      <th></th>\n",
       "      <th></th>\n",
       "      <th></th>\n",
       "      <th></th>\n",
       "      <th></th>\n",
       "    </tr>\n",
       "  </thead>\n",
       "  <tbody>\n",
       "    <tr>\n",
       "      <th rowspan=\"2\" valign=\"top\">0.000010</th>\n",
       "      <th>$\\widehat{f}$</th>\n",
       "      <td>1143.821106</td>\n",
       "      <td>1143.821106</td>\n",
       "      <td>0.0</td>\n",
       "      <td>1143.821106</td>\n",
       "      <td>1143.821106</td>\n",
       "    </tr>\n",
       "    <tr>\n",
       "      <th>$\\widehat{F}$</th>\n",
       "      <td>0.181345</td>\n",
       "      <td>0.181345</td>\n",
       "      <td>0.0</td>\n",
       "      <td>0.181345</td>\n",
       "      <td>0.181345</td>\n",
       "    </tr>\n",
       "    <tr>\n",
       "      <th rowspan=\"2\" valign=\"top\">0.020008</th>\n",
       "      <th>$\\widehat{f}$</th>\n",
       "      <td>2.008151</td>\n",
       "      <td>2.008151</td>\n",
       "      <td>0.0</td>\n",
       "      <td>2.008151</td>\n",
       "      <td>2.008151</td>\n",
       "    </tr>\n",
       "    <tr>\n",
       "      <th>$\\widehat{F}$</th>\n",
       "      <td>0.679962</td>\n",
       "      <td>0.679962</td>\n",
       "      <td>0.0</td>\n",
       "      <td>0.679962</td>\n",
       "      <td>0.679962</td>\n",
       "    </tr>\n",
       "    <tr>\n",
       "      <th rowspan=\"2\" valign=\"top\">0.040006</th>\n",
       "      <th>$\\widehat{f}$</th>\n",
       "      <td>1.181164</td>\n",
       "      <td>1.181164</td>\n",
       "      <td>0.0</td>\n",
       "      <td>1.181164</td>\n",
       "      <td>1.181164</td>\n",
       "    </tr>\n",
       "    <tr>\n",
       "      <th>$\\widehat{F}$</th>\n",
       "      <td>0.708873</td>\n",
       "      <td>0.708873</td>\n",
       "      <td>0.0</td>\n",
       "      <td>0.708873</td>\n",
       "      <td>0.708873</td>\n",
       "    </tr>\n",
       "    <tr>\n",
       "      <th rowspan=\"2\" valign=\"top\">0.060004</th>\n",
       "      <th>$\\widehat{f}$</th>\n",
       "      <td>0.911129</td>\n",
       "      <td>0.911129</td>\n",
       "      <td>0.0</td>\n",
       "      <td>0.911129</td>\n",
       "      <td>0.911129</td>\n",
       "    </tr>\n",
       "    <tr>\n",
       "      <th>$\\widehat{F}$</th>\n",
       "      <td>0.729870</td>\n",
       "      <td>0.729870</td>\n",
       "      <td>0.0</td>\n",
       "      <td>0.729870</td>\n",
       "      <td>0.729870</td>\n",
       "    </tr>\n",
       "    <tr>\n",
       "      <th rowspan=\"2\" valign=\"top\">0.080002</th>\n",
       "      <th>$\\widehat{f}$</th>\n",
       "      <td>0.767233</td>\n",
       "      <td>0.767233</td>\n",
       "      <td>0.0</td>\n",
       "      <td>0.767233</td>\n",
       "      <td>0.767233</td>\n",
       "    </tr>\n",
       "    <tr>\n",
       "      <th>$\\widehat{F}$</th>\n",
       "      <td>0.746436</td>\n",
       "      <td>0.746436</td>\n",
       "      <td>0.0</td>\n",
       "      <td>0.746436</td>\n",
       "      <td>0.746436</td>\n",
       "    </tr>\n",
       "    <tr>\n",
       "      <th rowspan=\"2\" valign=\"top\">0.100000</th>\n",
       "      <th>$\\widehat{f}$</th>\n",
       "      <td>0.853836</td>\n",
       "      <td>0.853836</td>\n",
       "      <td>0.0</td>\n",
       "      <td>0.853836</td>\n",
       "      <td>0.853836</td>\n",
       "    </tr>\n",
       "    <tr>\n",
       "      <th>$\\widehat{F}$</th>\n",
       "      <td>0.760947</td>\n",
       "      <td>0.760947</td>\n",
       "      <td>0.0</td>\n",
       "      <td>0.760947</td>\n",
       "      <td>0.760947</td>\n",
       "    </tr>\n",
       "  </tbody>\n",
       "</table>\n",
       "</div>"
      ],
      "text/plain": [
       "                               Mean       Median  Std         5.0%  \\\n",
       "t        Statistics                                                  \n",
       "0.000010 $\\widehat{f}$  1143.821106  1143.821106  0.0  1143.821106   \n",
       "         $\\widehat{F}$     0.181345     0.181345  0.0     0.181345   \n",
       "0.020008 $\\widehat{f}$     2.008151     2.008151  0.0     2.008151   \n",
       "         $\\widehat{F}$     0.679962     0.679962  0.0     0.679962   \n",
       "0.040006 $\\widehat{f}$     1.181164     1.181164  0.0     1.181164   \n",
       "         $\\widehat{F}$     0.708873     0.708873  0.0     0.708873   \n",
       "0.060004 $\\widehat{f}$     0.911129     0.911129  0.0     0.911129   \n",
       "         $\\widehat{F}$     0.729870     0.729870  0.0     0.729870   \n",
       "0.080002 $\\widehat{f}$     0.767233     0.767233  0.0     0.767233   \n",
       "         $\\widehat{F}$     0.746436     0.746436  0.0     0.746436   \n",
       "0.100000 $\\widehat{f}$     0.853836     0.853836  0.0     0.853836   \n",
       "         $\\widehat{F}$     0.760947     0.760947  0.0     0.760947   \n",
       "\n",
       "                                95%  \n",
       "t        Statistics                  \n",
       "0.000010 $\\widehat{f}$  1143.821106  \n",
       "         $\\widehat{F}$     0.181345  \n",
       "0.020008 $\\widehat{f}$     2.008151  \n",
       "         $\\widehat{F}$     0.679962  \n",
       "0.040006 $\\widehat{f}$     1.181164  \n",
       "         $\\widehat{F}$     0.708873  \n",
       "0.060004 $\\widehat{f}$     0.911129  \n",
       "         $\\widehat{F}$     0.729870  \n",
       "0.080002 $\\widehat{f}$     0.767233  \n",
       "         $\\widehat{F}$     0.746436  \n",
       "0.100000 $\\widehat{f}$     0.853836  \n",
       "         $\\widehat{F}$     0.760947  "
      ]
     },
     "execution_count": 67,
     "metadata": {},
     "output_type": "execute_result"
    }
   ],
   "source": [
    "pd.concat(summaries)"
   ]
  },
  {
   "cell_type": "code",
   "execution_count": 68,
   "id": "bb837164-8526-4306-846c-f3e942e5e558",
   "metadata": {},
   "outputs": [
    {
     "name": "stdout",
     "output_type": "stream",
     "text": [
      "\\begin{longtable}[H]{llrrrrr}\n",
      "\\caption{Summary Statistics of the Empirical Estimation of $\\widehat{f}$ and $\\widehat{F}$}\\\\\n",
      "\\toprule\n",
      "         &               &    Mean &  Median &  Std &    5.0% &     95% \\\\\n",
      "t & Statistics &         &         &      &         &         \\\\\n",
      "\\midrule\n",
      "\\endfirsthead\n",
      "\\caption[]{Summary Statistics of the Empirical Estimation of $\\widehat{f}$ and $\\widehat{F}$} \\\\\n",
      "\\toprule\n",
      "         &               &    Mean &  Median &  Std &    5.0% &     95% \\\\\n",
      "t & Statistics &         &         &      &         &         \\\\\n",
      "\\midrule\n",
      "\\endhead\n",
      "\\midrule\n",
      "\\multicolumn{7}{r}{{Continued on next page}} \\\\\n",
      "\\midrule\n",
      "\\endfoot\n",
      "\n",
      "\\bottomrule\n",
      "\\endlastfoot\n",
      "0.000010 & $\\widehat{f}$ & 1143.82 & 1143.82 & 0.00 & 1143.82 & 1143.82 \\\\\n",
      "         & $\\widehat{F}$ &    0.18 &    0.18 & 0.00 &    0.18 &    0.18 \\\\\n",
      "0.020008 & $\\widehat{f}$ &    2.01 &    2.01 & 0.00 &    2.01 &    2.01 \\\\\n",
      "         & $\\widehat{F}$ &    0.68 &    0.68 & 0.00 &    0.68 &    0.68 \\\\\n",
      "0.040006 & $\\widehat{f}$ &    1.18 &    1.18 & 0.00 &    1.18 &    1.18 \\\\\n",
      "         & $\\widehat{F}$ &    0.71 &    0.71 & 0.00 &    0.71 &    0.71 \\\\\n",
      "0.060004 & $\\widehat{f}$ &    0.91 &    0.91 & 0.00 &    0.91 &    0.91 \\\\\n",
      "         & $\\widehat{F}$ &    0.73 &    0.73 & 0.00 &    0.73 &    0.73 \\\\\n",
      "0.080002 & $\\widehat{f}$ &    0.77 &    0.77 & 0.00 &    0.77 &    0.77 \\\\\n",
      "         & $\\widehat{F}$ &    0.75 &    0.75 & 0.00 &    0.75 &    0.75 \\\\\n",
      "0.100000 & $\\widehat{f}$ &    0.85 &    0.85 & 0.00 &    0.85 &    0.85 \\\\\n",
      "         & $\\widehat{F}$ &    0.76 &    0.76 & 0.00 &    0.76 &    0.76 \\\\\n",
      "\\end{longtable}\n",
      "\n"
     ]
    },
    {
     "name": "stderr",
     "output_type": "stream",
     "text": [
      "<ipython-input-68-1f51fe3585d4>:1: FutureWarning: In future versions `DataFrame.to_latex` is expected to utilise the base implementation of `Styler.to_latex` for formatting and rendering. The arguments signature may therefore change. It is recommended instead to use `DataFrame.style.to_latex` which also contains additional functionality.\n",
      "  print(pd.concat(summaries).to_latex( caption = 'Summary Statistics of the Empirical Estimation of $\\widehat{f}$ and $\\widehat{F}$',\n"
     ]
    }
   ],
   "source": [
    "print(pd.concat(summaries).to_latex( caption = 'Summary Statistics of the Empirical Estimation of $\\widehat{f}$ and $\\widehat{F}$',\n",
    "                        float_format=\"%.2f\",\n",
    "#                         formatters = {'Mean': \"{:.2E}\".format,\n",
    "#                                       'Median': \"{:.2E}\".format,\n",
    "#                                       'Std': \"{:.2E}\".format,\n",
    "#                                       '5.0%': \"{:.2E}\".format,\n",
    "#                                       '95%': \"{:.2E}\".format},\n",
    "                        position = 'H',\n",
    "                        longtable = True,\n",
    "                        escape=False))"
   ]
  },
  {
   "cell_type": "code",
   "execution_count": 69,
   "id": "26b4c42b-616c-444b-b36d-f0d5a6633ba2",
   "metadata": {},
   "outputs": [],
   "source": [
    "summary_stats = [np.nanmean, np.nanmedian, np.nanstd, 0.05, 0.95]\n",
    "summaries = []\n",
    "\n",
    "# Initialize gs, ts, and sigma_hats_gs variables with appropriate values\n",
    "\n",
    "# Iterate over groups\n",
    "for g_i, g in enumerate(gs):\n",
    "    sigma_hats_g = sigma_hats_gs[g_i]\n",
    "\n",
    "    # Iterate over time periods\n",
    "    for i, t in enumerate(ts):\n",
    "        sigma_hats = sigma_hats_g[i]\n",
    "\n",
    "        # Calculate summary statistics\n",
    "        sigma_hats_stats = tools.estimation_summary(sigma_hats, summary_stats, rounding=10)\n",
    "\n",
    "        # Create a dataframe\n",
    "        summary_t = pd.DataFrame([sigma_hats_stats],\n",
    "                                 columns=['Mean', 'Median', 'Std', '5.0%', '95%'],\n",
    "                                 index=pd.MultiIndex.from_tuples([(g, t, '$\\widehat{\\sigma}_{t}$')],\n",
    "                                                                 names=['g', 't', 'Statistics']))\n",
    "\n",
    "        summaries.append(summary_t)"
   ]
  },
  {
   "cell_type": "code",
   "execution_count": 70,
   "id": "fbe822fe-1226-456b-b61a-454f2f08355d",
   "metadata": {},
   "outputs": [
    {
     "name": "stdout",
     "output_type": "stream",
     "text": [
      "\\begin{longtable}[H]{lllrrrrr}\n",
      "\\caption{Summary statistics of Empirical Estimate of Volatility with different g}\\\\\n",
      "\\toprule\n",
      "    &          &                        &     Mean &   Median &      Std &     5.0% &      95% \\\\\n",
      "g & t & Statistics &          &          &          &          &          \\\\\n",
      "\\midrule\n",
      "\\endfirsthead\n",
      "\\caption[]{Summary statistics of Empirical Estimate of Volatility with different g} \\\\\n",
      "\\toprule\n",
      "    &          &                        &     Mean &   Median &      Std &     5.0% &      95% \\\\\n",
      "g & t & Statistics &          &          &          &          &          \\\\\n",
      "\\midrule\n",
      "\\endhead\n",
      "\\midrule\n",
      "\\multicolumn{8}{r}{{Continued on next page}} \\\\\n",
      "\\midrule\n",
      "\\endfoot\n",
      "\n",
      "\\bottomrule\n",
      "\\endlastfoot\n",
      "0.5 & 0.000010 & $\\widehat{\\sigma}_{t}$ & 7.33E+02 & 7.33E+02 & 0.00E+00 & 7.33E+02 & 7.33E+02 \\\\\n",
      "1.0 & 0.000010 & $\\widehat{\\sigma}_{t}$ & 2.93E+03 & 2.93E+03 & 0.00E+00 & 2.93E+03 & 2.93E+03 \\\\\n",
      "2.0 & 0.000010 & $\\widehat{\\sigma}_{t}$ & 1.17E+04 & 1.17E+04 & 0.00E+00 & 1.17E+04 & 1.17E+04 \\\\\n",
      "4.0 & 0.000010 & $\\widehat{\\sigma}_{t}$ & 4.69E+04 & 4.69E+04 & 0.00E+00 & 4.69E+04 & 4.69E+04 \\\\\n",
      "0.5 & 0.020008 & $\\widehat{\\sigma}_{t}$ & 1.95E+01 & 1.95E+01 & 0.00E+00 & 1.95E+01 & 1.95E+01 \\\\\n",
      "1.0 & 0.020008 & $\\widehat{\\sigma}_{t}$ & 7.81E+01 & 7.81E+01 & 0.00E+00 & 7.81E+01 & 7.81E+01 \\\\\n",
      "2.0 & 0.020008 & $\\widehat{\\sigma}_{t}$ & 3.12E+02 & 3.12E+02 & 0.00E+00 & 3.12E+02 & 3.12E+02 \\\\\n",
      "4.0 & 0.020008 & $\\widehat{\\sigma}_{t}$ & 1.25E+03 & 1.25E+03 & 0.00E+00 & 1.25E+03 & 1.25E+03 \\\\\n",
      "0.5 & 0.040006 & $\\widehat{\\sigma}_{t}$ & 1.52E+01 & 1.52E+01 & 0.00E+00 & 1.52E+01 & 1.52E+01 \\\\\n",
      "1.0 & 0.040006 & $\\widehat{\\sigma}_{t}$ & 6.10E+01 & 6.10E+01 & 0.00E+00 & 6.10E+01 & 6.10E+01 \\\\\n",
      "2.0 & 0.040006 & $\\widehat{\\sigma}_{t}$ & 2.44E+02 & 2.44E+02 & 0.00E+00 & 2.44E+02 & 2.44E+02 \\\\\n",
      "4.0 & 0.040006 & $\\widehat{\\sigma}_{t}$ & 9.76E+02 & 9.76E+02 & 0.00E+00 & 9.76E+02 & 9.76E+02 \\\\\n",
      "0.5 & 0.060004 & $\\widehat{\\sigma}_{t}$ & 1.47E+01 & 1.47E+01 & 0.00E+00 & 1.47E+01 & 1.47E+01 \\\\\n",
      "1.0 & 0.060004 & $\\widehat{\\sigma}_{t}$ & 5.89E+01 & 5.89E+01 & 0.00E+00 & 5.89E+01 & 5.89E+01 \\\\\n",
      "2.0 & 0.060004 & $\\widehat{\\sigma}_{t}$ & 2.36E+02 & 2.36E+02 & 0.00E+00 & 2.36E+02 & 2.36E+02 \\\\\n",
      "4.0 & 0.060004 & $\\widehat{\\sigma}_{t}$ & 9.42E+02 & 9.42E+02 & 0.00E+00 & 9.42E+02 & 9.42E+02 \\\\\n",
      "0.5 & 0.080002 & $\\widehat{\\sigma}_{t}$ & 1.50E+01 & 1.50E+01 & 0.00E+00 & 1.50E+01 & 1.50E+01 \\\\\n",
      "1.0 & 0.080002 & $\\widehat{\\sigma}_{t}$ & 5.99E+01 & 5.99E+01 & 0.00E+00 & 5.99E+01 & 5.99E+01 \\\\\n",
      "2.0 & 0.080002 & $\\widehat{\\sigma}_{t}$ & 2.40E+02 & 2.40E+02 & 0.00E+00 & 2.40E+02 & 2.40E+02 \\\\\n",
      "4.0 & 0.080002 & $\\widehat{\\sigma}_{t}$ & 9.59E+02 & 9.59E+02 & 0.00E+00 & 9.59E+02 & 9.59E+02 \\\\\n",
      "0.5 & 0.100000 & $\\widehat{\\sigma}_{t}$ & 1.99E+01 & 1.99E+01 & 0.00E+00 & 1.99E+01 & 1.99E+01 \\\\\n",
      "1.0 & 0.100000 & $\\widehat{\\sigma}_{t}$ & 7.96E+01 & 7.96E+01 & 0.00E+00 & 7.96E+01 & 7.96E+01 \\\\\n",
      "2.0 & 0.100000 & $\\widehat{\\sigma}_{t}$ & 3.18E+02 & 3.18E+02 & 0.00E+00 & 3.18E+02 & 3.18E+02 \\\\\n",
      "4.0 & 0.100000 & $\\widehat{\\sigma}_{t}$ & 1.27E+03 & 1.27E+03 & 0.00E+00 & 1.27E+03 & 1.27E+03 \\\\\n",
      "\\end{longtable}\n",
      "\n"
     ]
    },
    {
     "name": "stderr",
     "output_type": "stream",
     "text": [
      "<ipython-input-70-24462e836325>:1: FutureWarning: In future versions `DataFrame.to_latex` is expected to utilise the base implementation of `Styler.to_latex` for formatting and rendering. The arguments signature may therefore change. It is recommended instead to use `DataFrame.style.to_latex` which also contains additional functionality.\n",
      "  print(pd.concat(summaries).sort_index(level = 1, sort_remaining = 0).to_latex( caption = 'Summary statistics of Empirical Estimate of Volatility with different g',\n"
     ]
    }
   ],
   "source": [
    "print(pd.concat(summaries).sort_index(level = 1, sort_remaining = 0).to_latex( caption = 'Summary statistics of Empirical Estimate of Volatility with different g',\n",
    "                        float_format=\"%.2f\",\n",
    "                        formatters = {'Mean': \"{:.2E}\".format,\n",
    "                                      'Median': \"{:.2E}\".format,\n",
    "                                      #'Bias': \"{:.2E}\".format,\n",
    "                                      'Std': \"{:.2E}\".format,\n",
    "                                      '5.0%': \"{:.2E}\".format,\n",
    "                                      '95%': \"{:.2E}\".format},\n",
    "                        position = 'H',\n",
    "                        longtable = True,\n",
    "                        escape=False))"
   ]
  },
  {
   "cell_type": "code",
   "execution_count": null,
   "id": "384c6ece-98ff-45ba-b147-2024ee82f5a8",
   "metadata": {},
   "outputs": [],
   "source": []
  },
  {
   "cell_type": "markdown",
   "id": "cb1d3db1-582c-47aa-a1f1-6783b32aab36",
   "metadata": {},
   "source": [
    "#### Plots"
   ]
  },
  {
   "cell_type": "code",
   "execution_count": 63,
   "id": "37640082-d85b-4cc8-9180-11a5a9232a99",
   "metadata": {},
   "outputs": [
    {
     "data": {
      "image/png": "[encoded data removed]",
      "text/plain": [
       "<Figure size 432x288 with 1 Axes>"
      ]
     },
     "metadata": {
      "needs_background": "light"
     },
     "output_type": "display_data"
    }
   ],
   "source": [
    "# make some plots\n",
    "plt.plot(ts, np.mean(f_hats_ts, axis = 1))\n",
    "plt.ylabel('$\\widehat{f}$')\n",
    "plt.xlabel('t')\n",
    "#plt.legend()\n",
    "\n",
    "plt.savefig('figures/distributions/pdf_wide_0_01', facecolor='w')\n",
    "plt.show()\n",
    "plt.close()\n"
   ]
  },
  {
   "cell_type": "code",
   "execution_count": 64,
   "id": "94d97943-4f22-4ccb-876f-bb58f3104e69",
   "metadata": {},
   "outputs": [
    {
     "data": {
      "image/png": "[encoded data removed]",
      "text/plain": [
       "<Figure size 432x288 with 1 Axes>"
      ]
     },
     "metadata": {
      "needs_background": "light"
     },
     "output_type": "display_data"
    }
   ],
   "source": [
    "### Plotting F_hat\n",
    "plt.plot(ts, np.mean(F_hats_ts, axis = 1))\n",
    "plt.ylabel('$\\widehat{F}$')\n",
    "plt.xlabel('t')\n",
    "#plt.legend()\n",
    "\n",
    "plt.savefig('figures/distributions/cdf_wide_0_01', facecolor='w')\n",
    "plt.show()\n",
    "plt.close()\n",
    "\n",
    "\n"
   ]
  },
  {
   "cell_type": "code",
   "execution_count": 65,
   "id": "d6a1c19f-a421-4f7c-9c43-4e789df764b8",
   "metadata": {},
   "outputs": [
    {
     "data": {
      "image/png": "[encoded data removed]",
      "text/plain": [
       "<Figure size 432x288 with 1 Axes>"
      ]
     },
     "metadata": {
      "needs_background": "light"
     },
     "output_type": "display_data"
    }
   ],
   "source": [
    "for g_i in range(0, len(gs)):\n",
    "    \n",
    "    plt.plot(ts, np.nanmean(sigma_hats_gs[g_i], axis = 1),\n",
    "            label = f'g = {gs[g_i]}',\n",
    "            linestyle = types[g_i],\n",
    "            linewidth = widths[g_i])\n",
    "    \n",
    "    \n",
    "plt.ylabel('$\\widehat{\\sigma}_{t}$')\n",
    "plt.xlabel('t')\n",
    "plt.legend()\n",
    "\n",
    "plt.savefig('figures/distributions/sigma_wide_0_01', facecolor='w')\n",
    "plt.show()\n",
    "plt.close()"
   ]
  },
  {
   "cell_type": "code",
   "execution_count": null,
   "id": "d69a8bb9-930c-43fe-b67c-ff6a0ab15f68",
   "metadata": {},
   "outputs": [],
   "source": []
  },
  {
   "cell_type": "code",
   "execution_count": null,
   "id": "d2bd2970-ac07-40c2-9516-0d0d26b8ad83",
   "metadata": {},
   "outputs": [],
   "source": []
  },
  {
   "cell_type": "code",
   "execution_count": null,
   "id": "6c7b459c-0f50-4baa-bb16-4463e716f1fa",
   "metadata": {},
   "outputs": [],
   "source": []
  },
  {
   "cell_type": "code",
   "execution_count": null,
   "id": "3b857db5-111f-4729-a51b-4e7c85b7a201",
   "metadata": {},
   "outputs": [],
   "source": []
  },
  {
   "cell_type": "code",
   "execution_count": null,
   "id": "edcba4c6-f7f5-401a-a738-4a358836908c",
   "metadata": {},
   "outputs": [],
   "source": []
  }
 ],
 "metadata": {
  "kernelspec": {
   "display_name": "Python 3",
   "language": "python",
   "name": "python3"
  },
  "language_info": {
   "codemirror_mode": {
    "name": "ipython",
    "version": 3
   },
   "file_extension": ".py",
   "mimetype": "text/x-python",
   "name": "python",
   "nbconvert_exporter": "python",
   "pygments_lexer": "ipython3",
   "version": "3.8.8"
  }
 },
 "nbformat": 4,
 "nbformat_minor": 5
}
