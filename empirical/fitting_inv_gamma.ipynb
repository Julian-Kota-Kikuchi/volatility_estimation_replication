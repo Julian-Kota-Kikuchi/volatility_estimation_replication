{
 "cells": [
  {
   "cell_type": "markdown",
   "id": "3a0f3f4c-7844-48dd-9d69-a4f946172776",
   "metadata": {},
   "source": [
    "## Load Libraries"
   ]
  },
  {
   "cell_type": "code",
   "execution_count": 1,
   "id": "b88d4b1a-1a48-496c-9841-e83b305e3ffa",
   "metadata": {},
   "outputs": [],
   "source": [
    "import numpy as np\n",
    "import pandas as pd\n",
    "\n",
    "import matplotlib.pyplot as plt\n",
    "import seaborn as sns\n",
    "\n",
    "# distributions\n",
    "import scipy.integrate as integrate\n",
    "from scipy.integrate import quad, quad_vec\n",
    "from scipy.stats import invgamma\n",
    "from scipy.stats import levy\n",
    "from scipy.special import gamma, erfinv\n",
    "\n",
    "import time\n",
    "from datetime import datetime, timedelta\n",
    "\n",
    "import sys\n",
    "import importlib # ref: https://askubuntu.com/questions/144698/find-a-file-by-name-using-command-line\n",
    "import seaborn as sns\n",
    "\n",
    "import os"
   ]
  },
  {
   "cell_type": "code",
   "execution_count": 2,
   "id": "0eca3397-7a5e-476e-b1ef-593a8bb3158d",
   "metadata": {},
   "outputs": [],
   "source": [
    "sys.path.append('../tools')\n",
    "import tools"
   ]
  },
  {
   "cell_type": "code",
   "execution_count": 3,
   "id": "93fbfeaf-e571-4b0d-ab3e-11953c3af734",
   "metadata": {},
   "outputs": [
    {
     "data": {
      "text/plain": [
       "<module 'tools' from '../tools/tools.py'>"
      ]
     },
     "execution_count": 3,
     "metadata": {},
     "output_type": "execute_result"
    }
   ],
   "source": [
    "importlib.reload(tools)"
   ]
  },
  {
   "cell_type": "markdown",
   "id": "8e59f8b9-d27b-4916-8466-e7ff0d0568f8",
   "metadata": {},
   "source": [
    "## Download Data"
   ]
  },
  {
   "cell_type": "code",
   "execution_count": 4,
   "id": "0b35ec40-fc75-42b5-b135-1bb428581c7a",
   "metadata": {},
   "outputs": [],
   "source": [
    "# download and store data in a file\n",
    "df = pd.read_csv('data/apple_cleaned.csv')\n"
   ]
  },
  {
   "cell_type": "code",
   "execution_count": 45,
   "id": "348a575e-6ff5-4988-a6c9-209c29b6aff6",
   "metadata": {},
   "outputs": [],
   "source": [
    "# decide whether you use sample or not\n",
    "sample = True\n",
    "\n",
    "if sample:\n",
    "    data = df[df['date']< '2017-01-30']\n",
    "    \n",
    "else:\n",
    "    data = df.copy()"
   ]
  },
  {
   "cell_type": "code",
   "execution_count": 46,
   "id": "5f9675c1-309c-4401-94fe-0188ddb84cae",
   "metadata": {},
   "outputs": [
    {
     "data": {
      "text/html": [
       "<div>\n",
       "<style scoped>\n",
       "    .dataframe tbody tr th:only-of-type {\n",
       "        vertical-align: middle;\n",
       "    }\n",
       "\n",
       "    .dataframe tbody tr th {\n",
       "        vertical-align: top;\n",
       "    }\n",
       "\n",
       "    .dataframe thead th {\n",
       "        text-align: right;\n",
       "    }\n",
       "</style>\n",
       "<table border=\"1\" class=\"dataframe\">\n",
       "  <thead>\n",
       "    <tr style=\"text-align: right;\">\n",
       "      <th></th>\n",
       "      <th>date</th>\n",
       "      <th>ts</th>\n",
       "      <th>date_ts</th>\n",
       "      <th>delta_ts</th>\n",
       "      <th>bin</th>\n",
       "    </tr>\n",
       "  </thead>\n",
       "  <tbody>\n",
       "    <tr>\n",
       "      <th>0</th>\n",
       "      <td>2017-01-03</td>\n",
       "      <td>09:30:00.001271</td>\n",
       "      <td>2017-01-03 09:30:00.001271</td>\n",
       "      <td>NaN</td>\n",
       "      <td>1</td>\n",
       "    </tr>\n",
       "    <tr>\n",
       "      <th>1</th>\n",
       "      <td>2017-01-03</td>\n",
       "      <td>09:30:00.046605</td>\n",
       "      <td>2017-01-03 09:30:00.046605</td>\n",
       "      <td>0.045334</td>\n",
       "      <td>1</td>\n",
       "    </tr>\n",
       "    <tr>\n",
       "      <th>2</th>\n",
       "      <td>2017-01-03</td>\n",
       "      <td>09:30:00.090184</td>\n",
       "      <td>2017-01-03 09:30:00.090184</td>\n",
       "      <td>0.043579</td>\n",
       "      <td>1</td>\n",
       "    </tr>\n",
       "    <tr>\n",
       "      <th>3</th>\n",
       "      <td>2017-01-03</td>\n",
       "      <td>09:30:00.090207</td>\n",
       "      <td>2017-01-03 09:30:00.090207</td>\n",
       "      <td>0.000023</td>\n",
       "      <td>1</td>\n",
       "    </tr>\n",
       "    <tr>\n",
       "      <th>4</th>\n",
       "      <td>2017-01-03</td>\n",
       "      <td>09:30:00.090214</td>\n",
       "      <td>2017-01-03 09:30:00.090214</td>\n",
       "      <td>0.000007</td>\n",
       "      <td>1</td>\n",
       "    </tr>\n",
       "    <tr>\n",
       "      <th>...</th>\n",
       "      <td>...</td>\n",
       "      <td>...</td>\n",
       "      <td>...</td>\n",
       "      <td>...</td>\n",
       "      <td>...</td>\n",
       "    </tr>\n",
       "    <tr>\n",
       "      <th>2337914</th>\n",
       "      <td>2017-01-27</td>\n",
       "      <td>15:59:59.961296</td>\n",
       "      <td>2017-01-27 15:59:59.961296</td>\n",
       "      <td>0.000006</td>\n",
       "      <td>13</td>\n",
       "    </tr>\n",
       "    <tr>\n",
       "      <th>2337915</th>\n",
       "      <td>2017-01-27</td>\n",
       "      <td>15:59:59.982575</td>\n",
       "      <td>2017-01-27 15:59:59.982575</td>\n",
       "      <td>0.021279</td>\n",
       "      <td>13</td>\n",
       "    </tr>\n",
       "    <tr>\n",
       "      <th>2337916</th>\n",
       "      <td>2017-01-27</td>\n",
       "      <td>15:59:59.982617</td>\n",
       "      <td>2017-01-27 15:59:59.982617</td>\n",
       "      <td>0.000042</td>\n",
       "      <td>13</td>\n",
       "    </tr>\n",
       "    <tr>\n",
       "      <th>2337917</th>\n",
       "      <td>2017-01-27</td>\n",
       "      <td>15:59:59.983048</td>\n",
       "      <td>2017-01-27 15:59:59.983048</td>\n",
       "      <td>0.000431</td>\n",
       "      <td>13</td>\n",
       "    </tr>\n",
       "    <tr>\n",
       "      <th>2337918</th>\n",
       "      <td>2017-01-27</td>\n",
       "      <td>15:59:59.983054</td>\n",
       "      <td>2017-01-27 15:59:59.983054</td>\n",
       "      <td>0.000006</td>\n",
       "      <td>13</td>\n",
       "    </tr>\n",
       "  </tbody>\n",
       "</table>\n",
       "<p>2337919 rows × 5 columns</p>\n",
       "</div>"
      ],
      "text/plain": [
       "               date               ts                     date_ts  delta_ts  \\\n",
       "0        2017-01-03  09:30:00.001271  2017-01-03 09:30:00.001271       NaN   \n",
       "1        2017-01-03  09:30:00.046605  2017-01-03 09:30:00.046605  0.045334   \n",
       "2        2017-01-03  09:30:00.090184  2017-01-03 09:30:00.090184  0.043579   \n",
       "3        2017-01-03  09:30:00.090207  2017-01-03 09:30:00.090207  0.000023   \n",
       "4        2017-01-03  09:30:00.090214  2017-01-03 09:30:00.090214  0.000007   \n",
       "...             ...              ...                         ...       ...   \n",
       "2337914  2017-01-27  15:59:59.961296  2017-01-27 15:59:59.961296  0.000006   \n",
       "2337915  2017-01-27  15:59:59.982575  2017-01-27 15:59:59.982575  0.021279   \n",
       "2337916  2017-01-27  15:59:59.982617  2017-01-27 15:59:59.982617  0.000042   \n",
       "2337917  2017-01-27  15:59:59.983048  2017-01-27 15:59:59.983048  0.000431   \n",
       "2337918  2017-01-27  15:59:59.983054  2017-01-27 15:59:59.983054  0.000006   \n",
       "\n",
       "         bin  \n",
       "0          1  \n",
       "1          1  \n",
       "2          1  \n",
       "3          1  \n",
       "4          1  \n",
       "...      ...  \n",
       "2337914   13  \n",
       "2337915   13  \n",
       "2337916   13  \n",
       "2337917   13  \n",
       "2337918   13  \n",
       "\n",
       "[2337919 rows x 5 columns]"
      ]
     },
     "execution_count": 46,
     "metadata": {},
     "output_type": "execute_result"
    }
   ],
   "source": [
    "data"
   ]
  },
  {
   "cell_type": "code",
   "execution_count": null,
   "id": "3c2be08e-bfbe-41ac-ae7f-2762ed5e2ec9",
   "metadata": {},
   "outputs": [],
   "source": []
  },
  {
   "cell_type": "markdown",
   "id": "0f81f425-93d4-4a32-9a54-e0f310d73b1d",
   "metadata": {},
   "source": [
    "## Fitting Distribution"
   ]
  },
  {
   "cell_type": "markdown",
   "id": "36369a83-9411-4c68-9b5f-32ac778be40c",
   "metadata": {},
   "source": [
    "### Fitting Inverse Gamma Distribution"
   ]
  },
  {
   "cell_type": "markdown",
   "id": "68f4fc40-df8c-4f7d-89d4-4be9e60cce87",
   "metadata": {},
   "source": [
    "#### Not fixing Location at 0"
   ]
  },
  {
   "cell_type": "code",
   "execution_count": 26,
   "id": "b90cc07a-6d45-4648-8133-00370543f97e",
   "metadata": {},
   "outputs": [
    {
     "name": "stderr",
     "output_type": "stream",
     "text": [
      "/Users/kotakikuchi/opt/anaconda3/lib/python3.8/site-packages/scipy/stats/_distn_infrastructure.py:2494: RuntimeWarning: invalid value encountered in double_scalars\n",
      "  Lhat = muhat - Shat*mu\n"
     ]
    }
   ],
   "source": [
    "### Get a daily estimate of the parameter and then take and average\n",
    "a_daily_float = []\n",
    "b_loc_float = []\n",
    "b_daily_float = []\n",
    "\n",
    "days = data['date'].unique()\n",
    "\n",
    "for day in days:\n",
    "    \n",
    "    # estimate levy parameters\n",
    "    a, loc, b = invgamma.fit(data.loc[data['date']==day,]['delta_ts'].dropna(), \n",
    "                            loc = 0)\n",
    "    \n",
    "    # append it to the list\n",
    "    a_daily_float.append(a)\n",
    "    b_loc_float.append(loc)\n",
    "    b_daily_float.append(b)"
   ]
  },
  {
   "cell_type": "code",
   "execution_count": 27,
   "id": "f940046b-9583-472d-8613-b111e00ac106",
   "metadata": {},
   "outputs": [],
   "source": [
    "## Get a 30 minute block estimate of the parameter and then take an average\n",
    "a_30_minutes_float = []\n",
    "b_30_minutes_float = []\n",
    "\n",
    "blocks = data['bin'].unique()\n",
    "\n",
    "# for each day\n",
    "for day in days:\n",
    "    \n",
    "    # for each block\n",
    "    for block in blocks:\n",
    "        \n",
    "        # estimate levy parameters\n",
    "        a, loc, b = invgamma.fit(data.loc[(data['date']==day) & (data['bin'] == block),]['delta_ts'].dropna(),\n",
    "                                loc = 0)\n",
    "\n",
    "        # append it to the list\n",
    "        a_30_minutes_float.append(a)\n",
    "        b_30_minutes_float.append(b)"
   ]
  },
  {
   "cell_type": "code",
   "execution_count": 28,
   "id": "920b5abd-abe5-433e-bf9c-d416215c8a26",
   "metadata": {},
   "outputs": [],
   "source": [
    "## get an estimate using the entier data\n",
    "a_entire, loc_entire, b_entire = invgamma.fit(data.loc[data['date']==day,]['delta_ts'].dropna(),\n",
    "                                             loc = 0)"
   ]
  },
  {
   "cell_type": "code",
   "execution_count": 41,
   "id": "c638c1bd-2d80-47ee-b739-abb800f1f52a",
   "metadata": {},
   "outputs": [],
   "source": [
    "estimates_daily = [a_daily_float, b_daily_float]\n",
    "estimates_30_mins = [a_30_minutes_float, b_30_minutes_float]\n",
    "estimate_entire = [a_entire, b_entire]\n",
    "\n",
    "\n",
    "summaries = pd.DataFrame(\n",
    "[np.mean(estimates_daily, axis = 1),\n",
    " np.median(estimates_daily, axis = 1),\n",
    " \n",
    " np.mean(estimates_30_mins, axis = 1),\n",
    " np.median(estimates_30_mins, axis = 1),\n",
    " \n",
    " estimate_entire\n",
    "],\n",
    "    columns = [' $\\\\alpha$', '$\\\\beta$'],\n",
    "    index = ['Daily Block (Mean)', 'Daily Block (Median)',\n",
    "             '30 Minutes Block (Mean)', '30 Minutes Block (Median)',\n",
    "             'Entire Data']\n",
    ")"
   ]
  },
  {
   "cell_type": "code",
   "execution_count": null,
   "id": "771c8b4d-ae52-4a2c-bbbb-4fbfe8b0b6b7",
   "metadata": {},
   "outputs": [],
   "source": []
  },
  {
   "cell_type": "code",
   "execution_count": 44,
   "id": "179550aa-e074-4b26-bbbd-c9ed124089e2",
   "metadata": {},
   "outputs": [
    {
     "data": {
      "text/html": [
       "<div>\n",
       "<style scoped>\n",
       "    .dataframe tbody tr th:only-of-type {\n",
       "        vertical-align: middle;\n",
       "    }\n",
       "\n",
       "    .dataframe tbody tr th {\n",
       "        vertical-align: top;\n",
       "    }\n",
       "\n",
       "    .dataframe thead th {\n",
       "        text-align: right;\n",
       "    }\n",
       "</style>\n",
       "<table border=\"1\" class=\"dataframe\">\n",
       "  <thead>\n",
       "    <tr style=\"text-align: right;\">\n",
       "      <th></th>\n",
       "      <th>$\\alpha$</th>\n",
       "      <th>$\\beta$</th>\n",
       "    </tr>\n",
       "  </thead>\n",
       "  <tbody>\n",
       "    <tr>\n",
       "      <th>Daily Block (Mean)</th>\n",
       "      <td>1.095044</td>\n",
       "      <td>0.444627</td>\n",
       "    </tr>\n",
       "    <tr>\n",
       "      <th>Daily Block (Median)</th>\n",
       "      <td>0.169599</td>\n",
       "      <td>0.000002</td>\n",
       "    </tr>\n",
       "    <tr>\n",
       "      <th>30 Minutes Block (Mean)</th>\n",
       "      <td>1.805156</td>\n",
       "      <td>10.377699</td>\n",
       "    </tr>\n",
       "    <tr>\n",
       "      <th>30 Minutes Block (Median)</th>\n",
       "      <td>0.170694</td>\n",
       "      <td>0.000002</td>\n",
       "    </tr>\n",
       "    <tr>\n",
       "      <th>Entire Data</th>\n",
       "      <td>0.165865</td>\n",
       "      <td>0.000002</td>\n",
       "    </tr>\n",
       "  </tbody>\n",
       "</table>\n",
       "</div>"
      ],
      "text/plain": [
       "                            $\\alpha$    $\\beta$\n",
       "Daily Block (Mean)          1.095044   0.444627\n",
       "Daily Block (Median)        0.169599   0.000002\n",
       "30 Minutes Block (Mean)     1.805156  10.377699\n",
       "30 Minutes Block (Median)   0.170694   0.000002\n",
       "Entire Data                 0.165865   0.000002"
      ]
     },
     "execution_count": 44,
     "metadata": {},
     "output_type": "execute_result"
    }
   ],
   "source": [
    "summaries"
   ]
  },
  {
   "cell_type": "code",
   "execution_count": 43,
   "id": "76a6b97d-cc56-4bda-a6e8-b2a9ec527471",
   "metadata": {},
   "outputs": [
    {
     "name": "stdout",
     "output_type": "stream",
     "text": [
      "\\begin{table}[H]\n",
      "\\centering\n",
      "\\caption{Estimated shape and scale parameter for the Inverse Gamma distribution of the first-hitting times in seconds for Apple in 2017}\n",
      "\\begin{tabular}{lrr}\n",
      "\\toprule\n",
      "{} &   $\\alpha$ &  $\\beta$ \\\\\n",
      "\\midrule\n",
      "Daily Block (Mean)        &       1.10 &     0.44 \\\\\n",
      "Daily Block (Median)      &       0.17 &     0.00 \\\\\n",
      "30 Minutes Block (Mean)   &       1.81 &    10.38 \\\\\n",
      "30 Minutes Block (Median) &       0.17 &     0.00 \\\\\n",
      "Entire Data               &       0.17 &     0.00 \\\\\n",
      "\\bottomrule\n",
      "\\end{tabular}\n",
      "\\end{table}\n",
      "\n"
     ]
    },
    {
     "name": "stderr",
     "output_type": "stream",
     "text": [
      "<ipython-input-43-af1c335a76f9>:1: FutureWarning: In future versions `DataFrame.to_latex` is expected to utilise the base implementation of `Styler.to_latex` for formatting and rendering. The arguments signature may therefore change. It is recommended instead to use `DataFrame.style.to_latex` which also contains additional functionality.\n",
      "  print(summaries.to_latex( caption = 'Estimated shape and scale parameter for the Inverse Gamma distribution of the first-hitting times in seconds for Apple in 2017',\n"
     ]
    }
   ],
   "source": [
    "print(summaries.to_latex( caption = 'Estimated shape and scale parameter for the Inverse Gamma distribution of the first-hitting times in seconds for Apple in 2017',\n",
    "                        float_format=\"%.2f\",\n",
    "                        formatters = {'$\\alpha$': \"{:.2E}\".format,\n",
    "                                      '$\\beta$': \"{:.2E}\".format\n",
    "                                     },\n",
    "                        position = 'H',\n",
    "                         escape=False))"
   ]
  },
  {
   "cell_type": "code",
   "execution_count": null,
   "id": "f7d6d3f1-69d1-49f1-960d-47e581d7f738",
   "metadata": {},
   "outputs": [],
   "source": []
  },
  {
   "cell_type": "code",
   "execution_count": null,
   "id": "4aca997b-ed7c-4d92-9c32-d6d193089cbb",
   "metadata": {},
   "outputs": [],
   "source": []
  },
  {
   "cell_type": "markdown",
   "id": "4567a39f-9b7f-4866-8a08-bb38b1a52a31",
   "metadata": {},
   "source": [
    "### Plots"
   ]
  },
  {
   "cell_type": "markdown",
   "id": "6fe3ace0-f67d-43cd-88da-74315d642f5e",
   "metadata": {},
   "source": [
    "#### $\\alpha$"
   ]
  },
  {
   "cell_type": "code",
   "execution_count": 17,
   "id": "69a7915e-f5b8-4462-8394-a70188c4b8a7",
   "metadata": {},
   "outputs": [
    {
     "data": {
      "image/png": "[encoded data removed]",
      "text/plain": [
       "<Figure size 432x288 with 1 Axes>"
      ]
     },
     "metadata": {
      "needs_background": "light"
     },
     "output_type": "display_data"
    }
   ],
   "source": [
    "### plotting the scale and shape parameters\n",
    "sns.kdeplot(a_daily_float, label = r\"Daily Estimate $\\alpha$\")\n",
    "sns.kdeplot(a_30_minutes_float, label = r\"30 Minute Block $\\alpha$\")\n",
    "\n",
    "\n",
    "#plt.title(r'Density Plot of $\\alpha$ (Location Parameter = 0)')\n",
    "plt.legend()\n",
    "\n",
    "\n",
    "plt.savefig('figures/parameters/a_density', facecolor='w')\n",
    "plt.show()\n",
    "plt.close()"
   ]
  },
  {
   "cell_type": "code",
   "execution_count": 18,
   "id": "598336bc-0b0f-4355-922c-f6a8bb4110ea",
   "metadata": {},
   "outputs": [
    {
     "data": {
      "image/png": "[encoded data removed]",
      "text/plain": [
       "<Figure size 432x288 with 1 Axes>"
      ]
     },
     "metadata": {
      "needs_background": "light"
     },
     "output_type": "display_data"
    }
   ],
   "source": [
    "sns.kdeplot(a_daily_float, label = r\"Daily Estimate $\\alpha$\")\n",
    "sns.kdeplot(a_30_minutes_float, label = r\"30 Minute Block $\\alpha$\")\n",
    "\n",
    "#plt.title(r'Density Plot of $\\alpha$  (Floating Location Parameter)')\n",
    "plt.legend()\n",
    "\n",
    "plt.savefig('figures/parameters/a_density_flaot', facecolor='w')\n",
    "plt.show()\n",
    "plt.close()"
   ]
  },
  {
   "cell_type": "markdown",
   "id": "440ae6a3-3cd9-4109-845a-1448c4b4e748",
   "metadata": {},
   "source": [
    "#### $\\beta$"
   ]
  },
  {
   "cell_type": "code",
   "execution_count": 77,
   "id": "5c6c5619-7abb-4d2a-aa69-714b13748b0b",
   "metadata": {},
   "outputs": [
    {
     "data": {
      "image/png": "[encoded data removed]",
      "text/plain": [
       "<Figure size 432x288 with 1 Axes>"
      ]
     },
     "metadata": {
      "needs_background": "light"
     },
     "output_type": "display_data"
    }
   ],
   "source": [
    "### plotting the scale and shape parameters\n",
    "sns.kdeplot(b_daily, label = r\"Daily Estimate $\\beta$\")\n",
    "sns.kdeplot(b_30_minutes, label = r\"30 Minute Block $\\beta$\")\n",
    "\n",
    "\n",
    "#plt.title(r'Density Plot of $\\beta$ (Location Parameter = 0)')\n",
    "plt.legend()\n",
    "\n",
    "plt.savefig('figures/parameters/b_density', facecolor='w')\n",
    "plt.show()\n",
    "plt.close()"
   ]
  },
  {
   "cell_type": "code",
   "execution_count": 78,
   "id": "a023e56f-fe7c-43e8-9112-12bbe6aee003",
   "metadata": {},
   "outputs": [
    {
     "data": {
      "image/png": "[encoded data removed]",
      "text/plain": [
       "<Figure size 432x288 with 1 Axes>"
      ]
     },
     "metadata": {
      "needs_background": "light"
     },
     "output_type": "display_data"
    }
   ],
   "source": [
    "### plotting the scale and shape parameters\n",
    "sns.kdeplot(b_daily_float, label = r\"Daily Estimate $\\beta$\")\n",
    "sns.kdeplot(b_30_minutes_float, label = r\"30 Minute Block $\\beta$\")\n",
    "\n",
    "\n",
    "#plt.title(r'Density Plot of $\\beta$ (Floating Location Parameter)')\n",
    "plt.legend()\n",
    "\n",
    "plt.savefig('figures/parameters/b_density_float', facecolor='w')\n",
    "plt.show()\n",
    "plt.close()"
   ]
  },
  {
   "cell_type": "code",
   "execution_count": null,
   "id": "4f95939b-7293-416f-b3a5-0ece2c4c634e",
   "metadata": {},
   "outputs": [],
   "source": []
  }
 ],
 "metadata": {
  "kernelspec": {
   "display_name": "Python 3",
   "language": "python",
   "name": "python3"
  },
  "language_info": {
   "codemirror_mode": {
    "name": "ipython",
    "version": 3
   },
   "file_extension": ".py",
   "mimetype": "text/x-python",
   "name": "python",
   "nbconvert_exporter": "python",
   "pygments_lexer": "ipython3",
   "version": "3.8.8"
  }
 },
 "nbformat": 4,
 "nbformat_minor": 5
}
